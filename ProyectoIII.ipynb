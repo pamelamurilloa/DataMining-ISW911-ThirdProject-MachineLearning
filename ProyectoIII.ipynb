{
  "nbformat": 4,
  "nbformat_minor": 0,
  "metadata": {
    "colab": {
      "provenance": [],
      "toc_visible": true,
      "include_colab_link": true
    },
    "kernelspec": {
      "name": "python3",
      "display_name": "Python 3"
    },
    "language_info": {
      "name": "python"
    }
  },
  "cells": [
    {
      "cell_type": "markdown",
      "metadata": {
        "id": "view-in-github",
        "colab_type": "text"
      },
      "source": [
        "<a href=\"https://colab.research.google.com/github/pamelamurilloa/DataMining-ISW911-ThirdProject-MachineLearning/blob/main/ProyectoIII.ipynb\" target=\"_parent\"><img src=\"https://colab.research.google.com/assets/colab-badge.svg\" alt=\"Open In Colab\"/></a>"
      ]
    },
    {
      "cell_type": "markdown",
      "source": [
        "# Proyecto III - Machine Learning"
      ],
      "metadata": {
        "id": "c5K3-ZzA6cfQ"
      }
    },
    {
      "cell_type": "markdown",
      "source": [
        "## 0.1. Descripción de las variables del dataset"
      ],
      "metadata": {
        "id": "SybT1z1F63xF"
      }
    },
    {
      "cell_type": "markdown",
      "source": [
        "1. **churn:** Indica si un cliente ha abandonado el servicio o no.\n",
        "2. **accountlength:** Tiempo, en días, que el cliente lleva con el servicio.\n",
        "3. **internationalplan:** Indica si el cliente tiene un plan de llamadas internacionales.\n",
        "4. **voicemailplan:** Indica si el cliente tiene un plan de buzón de voz.\n",
        "5. **numbervmailmessages:** Número de mensajes de voz recibidos por el cliente.\n",
        "6. **totaldayminutes:** Total de minutos usados por el cliente durante el día.\n",
        "7. **totaldaycalls:** Total de llamadas realizadas durante el día.\n",
        "8. **totaldaycharge:** Costo total de las llamadas realizadas durante el día, en dólares.\n",
        "9. **totaleveminutes:** Total de minutos usados por el cliente durante la tarde.\n",
        "10. **totalevecalls:** Total de llamadas realizadas durante la tarde.\n",
        "11. **totalevecharge:** Costo total de las llamadas realizadas durante la tarde, en dólares.\n",
        "12. **totalnightminutes:** Total de minutos usados por el cliente durante la noche.\n",
        "13. **totalnightcalls:** Total de llamadas realizadas durante la noche.\n",
        "14. **totalnightcharge:** Costo total de las llamadas realizadas durante la noche, en dólares.\n",
        "15. **totalintlminutes:** Total de minutos usados en llamadas internacionales.\n",
        "16. **totalintlcalls:** Total de llamadas internacionales realizadas.\n",
        "17. **totalintlcharge:** Costo total de las llamadas internacionales, en dólares.\n",
        "18. **numbercustomerservicecalls:** Número de llamadas realizadas por el cliente al servicio de atención al cliente."
      ],
      "metadata": {
        "id": "Ypd-1KQz6qzj"
      }
    },
    {
      "cell_type": "markdown",
      "source": [
        "## 0.1. Cargar librerías previamente"
      ],
      "metadata": {
        "id": "qLJRNr-O6lOI"
      }
    },
    {
      "cell_type": "code",
      "execution_count": 1,
      "metadata": {
        "id": "qzHuiPrpp1ji"
      },
      "outputs": [],
      "source": [
        "# Carga de las librerias\n",
        "import pandas as pd\n",
        "import numpy as np\n",
        "from keras.models import Sequential\n",
        "from keras.layers import Dense\n",
        "from sklearn.model_selection import train_test_split\n",
        "from sklearn.preprocessing import StandardScaler, LabelEncoder\n",
        "from sklearn.ensemble import RandomForestClassifier, RandomForestRegressor\n",
        "from sklearn.metrics import accuracy_score, mean_squared_error, classification_report, mean_absolute_error, r2_score\n",
        "import matplotlib.pyplot as plt"
      ]
    },
    {
      "cell_type": "markdown",
      "source": [
        "## 1. Cargar el Conjunto de datos\n"
      ],
      "metadata": {
        "id": "vaqqz3Mw685U"
      }
    },
    {
      "cell_type": "code",
      "source": [
        "url ='https://raw.githubusercontent.com/pamelamurilloa/DataMining-ISW911-ThirdProject-MachineLearning/refs/heads/main/df_transformed.csv'\n",
        "df = pd.read_csv(url)"
      ],
      "metadata": {
        "id": "97DHob3J6_oD",
        "outputId": "3dde4b4b-259a-4a22-fbc5-b19085263544",
        "colab": {
          "base_uri": "https://localhost:8080/",
          "height": 648
        }
      },
      "execution_count": 2,
      "outputs": [
        {
          "output_type": "execute_result",
          "data": {
            "text/plain": [
              "churn                          object\n",
              "accountlength                 float64\n",
              "internationalplan              object\n",
              "voicemailplan                  object\n",
              "numbervmailmessages           float64\n",
              "totaldayminutes               float64\n",
              "totaldaycalls                 float64\n",
              "totaldaycharge                float64\n",
              "totaleveminutes               float64\n",
              "totalevecalls                 float64\n",
              "totalevecharge                float64\n",
              "totalnightminutes             float64\n",
              "totalnightcalls               float64\n",
              "totalnightcharge              float64\n",
              "totalintlminutes              float64\n",
              "totalintlcalls                float64\n",
              "totalintlcharge               float64\n",
              "numbercustomerservicecalls    float64\n",
              "dtype: object"
            ],
            "text/html": [
              "<div>\n",
              "<style scoped>\n",
              "    .dataframe tbody tr th:only-of-type {\n",
              "        vertical-align: middle;\n",
              "    }\n",
              "\n",
              "    .dataframe tbody tr th {\n",
              "        vertical-align: top;\n",
              "    }\n",
              "\n",
              "    .dataframe thead th {\n",
              "        text-align: right;\n",
              "    }\n",
              "</style>\n",
              "<table border=\"1\" class=\"dataframe\">\n",
              "  <thead>\n",
              "    <tr style=\"text-align: right;\">\n",
              "      <th></th>\n",
              "      <th>0</th>\n",
              "    </tr>\n",
              "  </thead>\n",
              "  <tbody>\n",
              "    <tr>\n",
              "      <th>churn</th>\n",
              "      <td>object</td>\n",
              "    </tr>\n",
              "    <tr>\n",
              "      <th>accountlength</th>\n",
              "      <td>float64</td>\n",
              "    </tr>\n",
              "    <tr>\n",
              "      <th>internationalplan</th>\n",
              "      <td>object</td>\n",
              "    </tr>\n",
              "    <tr>\n",
              "      <th>voicemailplan</th>\n",
              "      <td>object</td>\n",
              "    </tr>\n",
              "    <tr>\n",
              "      <th>numbervmailmessages</th>\n",
              "      <td>float64</td>\n",
              "    </tr>\n",
              "    <tr>\n",
              "      <th>totaldayminutes</th>\n",
              "      <td>float64</td>\n",
              "    </tr>\n",
              "    <tr>\n",
              "      <th>totaldaycalls</th>\n",
              "      <td>float64</td>\n",
              "    </tr>\n",
              "    <tr>\n",
              "      <th>totaldaycharge</th>\n",
              "      <td>float64</td>\n",
              "    </tr>\n",
              "    <tr>\n",
              "      <th>totaleveminutes</th>\n",
              "      <td>float64</td>\n",
              "    </tr>\n",
              "    <tr>\n",
              "      <th>totalevecalls</th>\n",
              "      <td>float64</td>\n",
              "    </tr>\n",
              "    <tr>\n",
              "      <th>totalevecharge</th>\n",
              "      <td>float64</td>\n",
              "    </tr>\n",
              "    <tr>\n",
              "      <th>totalnightminutes</th>\n",
              "      <td>float64</td>\n",
              "    </tr>\n",
              "    <tr>\n",
              "      <th>totalnightcalls</th>\n",
              "      <td>float64</td>\n",
              "    </tr>\n",
              "    <tr>\n",
              "      <th>totalnightcharge</th>\n",
              "      <td>float64</td>\n",
              "    </tr>\n",
              "    <tr>\n",
              "      <th>totalintlminutes</th>\n",
              "      <td>float64</td>\n",
              "    </tr>\n",
              "    <tr>\n",
              "      <th>totalintlcalls</th>\n",
              "      <td>float64</td>\n",
              "    </tr>\n",
              "    <tr>\n",
              "      <th>totalintlcharge</th>\n",
              "      <td>float64</td>\n",
              "    </tr>\n",
              "    <tr>\n",
              "      <th>numbercustomerservicecalls</th>\n",
              "      <td>float64</td>\n",
              "    </tr>\n",
              "  </tbody>\n",
              "</table>\n",
              "</div><br><label><b>dtype:</b> object</label>"
            ]
          },
          "metadata": {},
          "execution_count": 2
        }
      ]
    },
    {
      "cell_type": "markdown",
      "source": [
        "## 2. División de los datos en conjuntos de entrenamiento y prueba"
      ],
      "metadata": {
        "id": "YXErm53nwiWK"
      }
    },
    {
      "cell_type": "code",
      "source": [],
      "metadata": {
        "id": "aLUwnwZFuyJG"
      },
      "execution_count": null,
      "outputs": []
    },
    {
      "cell_type": "markdown",
      "source": [
        "# Implementación de Machine Learning\n",
        "\n",
        "\n"
      ],
      "metadata": {
        "id": "YdrojASNwGZw"
      }
    },
    {
      "cell_type": "markdown",
      "source": [
        "## Redes Neuronales\n",
        "\n"
      ],
      "metadata": {
        "id": "sZI_9BQIw17H"
      }
    },
    {
      "cell_type": "markdown",
      "source": [
        "## Random Forest"
      ],
      "metadata": {
        "id": "k5bJFoVTwyj8"
      }
    },
    {
      "cell_type": "code",
      "source": [
        "## Bootstraping\n",
        "\n",
        "\n",
        "X = df.drop('{columna}', axis=1)\n",
        "y = df['{columna}']\n",
        "\n",
        "# División de datos entre prueba y entrenamiento\n",
        "\n",
        "X_train, X_test, y_train, y_test = train_test_split(X, y, test_size=0.3, random_state=0) # El 0.3 puede cambiarse a 0.1 o 0.2, podemos ir probando"
      ],
      "metadata": {
        "id": "wsIH8mXz0aX0"
      },
      "execution_count": null,
      "outputs": []
    },
    {
      "cell_type": "markdown",
      "source": [
        "### Regresión"
      ],
      "metadata": {
        "id": "gLM0xaG5zLKx"
      }
    },
    {
      "cell_type": "code",
      "source": [
        "forest_reg = RandomForestRegressor(\n",
        "                                    n_estimators=25, # Se puede incrementar si se ve que lo ocupamos, normalmente se utiliza 100 pero esto hace las pruebas mas rapidas\n",
        "                                    random_state=1,\n",
        "                                    max_features='sqrt',\n",
        "                                    max_depth=10\n",
        "                                  )\n",
        "\n",
        "# Entrenando el modelo\n",
        "forest_reg.fit(X_train, y_train)\n",
        "\n",
        "# Make predictions\n",
        "y_pred = forest_reg.predict(X_test)\n",
        "\n",
        "# Evaluando el modelo\n",
        "error_cuadrado = mean_squared_error(y_test, y_pred)\n",
        "error_absoluto = mean_absolute_error(y_test, y_pred)\n",
        "r2 = r2_score(y_test, y_pred)\n",
        "\n",
        "print(\"Mean Squared Error (MSE):\", error_cuadrado)\n",
        "print(\"Mean Absolute Error (MAE):\", error_absoluto)\n",
        "print(\"R-squared (R²):\", r2)\n",
        "print('Train R²: %.5f' % forest_reg.score(X_train, y_train))\n",
        "print('Test R²: %.5f' % forest_reg.score(X_test, y_test))"
      ],
      "metadata": {
        "id": "IHMiHxgPzML7"
      },
      "execution_count": null,
      "outputs": []
    },
    {
      "cell_type": "markdown",
      "source": [
        "### Clasificación\n",
        "\n"
      ],
      "metadata": {
        "id": "cmpCYDngzEb5"
      }
    },
    {
      "cell_type": "code",
      "source": [
        "forest_cla = RandomForestClassifier(\n",
        "                                    n_estimators=25,\n",
        "                                    random_state=1,\n",
        "                                    criterion='entropy', # Se puede cambiar a gini para ver si da mejor resultado\n",
        "                                    max_features='sqrt',\n",
        "                                    max_depth=10\n",
        "                                  )\n",
        "\n",
        "# Entrenando el modelo\n",
        "forest_cla.fit(X_train, y_train)\n",
        "\n",
        "# Hacer predicciones\n",
        "y_pred = forest_cla.predict(X_test)\n",
        "\n",
        "## Evaluando el modelo\n",
        "accuracy = accuracy_score(y_test, y_pred)\n",
        "\n",
        "print('Train Accuracy : %.5f' % forest_cla.score(X_train, y_train))\n",
        "print('Test Accuracy : %.5f' % forest_cla.score(X_test, y_test))\n",
        "print(classification_report(y_test, y_pred))\n",
        "\n",
        "## No se tienen que poner todas las formas de evaluacion, solo la que nos funcione mas"
      ],
      "metadata": {
        "id": "z-4PPm2izKC7"
      },
      "execution_count": null,
      "outputs": []
    },
    {
      "cell_type": "markdown",
      "source": [
        "# Videos que vi para ayudar con esto (esta parte luego se quita)\n",
        "\n",
        "\n",
        "*   https://www.youtube.com/watch?v=AYICIq5jnhU\n",
        "*   https://www.youtube.com/watch?v=3pa0vtW64Ic\n",
        "\n",
        "\n"
      ],
      "metadata": {
        "id": "MuySyqMkzasw"
      }
    }
  ]
}