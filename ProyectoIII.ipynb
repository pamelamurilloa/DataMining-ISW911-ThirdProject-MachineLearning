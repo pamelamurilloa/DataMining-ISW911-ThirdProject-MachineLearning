{
  "nbformat": 4,
  "nbformat_minor": 0,
  "metadata": {
    "colab": {
      "provenance": [],
      "include_colab_link": true
    },
    "kernelspec": {
      "name": "python3",
      "display_name": "Python 3"
    },
    "language_info": {
      "name": "python"
    }
  },
  "cells": [
    {
      "cell_type": "markdown",
      "metadata": {
        "id": "view-in-github",
        "colab_type": "text"
      },
      "source": [
        "<a href=\"https://colab.research.google.com/github/pamelamurilloa/DataMining-ISW911-ThirdProject-MachineLearning/blob/main/ProyectoIII.ipynb\" target=\"_parent\"><img src=\"https://colab.research.google.com/assets/colab-badge.svg\" alt=\"Open In Colab\"/></a>"
      ]
    },
    {
      "cell_type": "markdown",
      "source": [
        "# Proyecto III - Machine Learning"
      ],
      "metadata": {
        "id": "c5K3-ZzA6cfQ"
      }
    },
    {
      "cell_type": "markdown",
      "source": [
        "## 0. Descripción de las variables del dataset"
      ],
      "metadata": {
        "id": "SybT1z1F63xF"
      }
    },
    {
      "cell_type": "markdown",
      "source": [
        "1. **churn:** Indica si un cliente ha abandonado el servicio o no.\n",
        "2. **accountlength:** Tiempo, en días, que el cliente lleva con el servicio.\n",
        "3. **internationalplan:** Indica si el cliente tiene un plan de llamadas internacionales.\n",
        "4. **voicemailplan:** Indica si el cliente tiene un plan de buzón de voz.\n",
        "5. **numbervmailmessages:** Número de mensajes de voz recibidos por el cliente.\n",
        "6. **totaldayminutes:** Total de minutos usados por el cliente durante el día.\n",
        "7. **totaldaycalls:** Total de llamadas realizadas durante el día.\n",
        "8. **totaldaycharge:** Costo total de las llamadas realizadas durante el día, en dólares.\n",
        "9. **totaleveminutes:** Total de minutos usados por el cliente durante la tarde.\n",
        "10. **totalevecalls:** Total de llamadas realizadas durante la tarde.\n",
        "11. **totalevecharge:** Costo total de las llamadas realizadas durante la tarde, en dólares.\n",
        "12. **totalnightminutes:** Total de minutos usados por el cliente durante la noche.\n",
        "13. **totalnightcalls:** Total de llamadas realizadas durante la noche.\n",
        "14. **totalnightcharge:** Costo total de las llamadas realizadas durante la noche, en dólares.\n",
        "15. **totalintlminutes:** Total de minutos usados en llamadas internacionales.\n",
        "16. **totalintlcalls:** Total de llamadas internacionales realizadas.\n",
        "17. **totalintlcharge:** Costo total de las llamadas internacionales, en dólares.\n",
        "18. **numbercustomerservicecalls:** Número de llamadas realizadas por el cliente al servicio de atención al cliente."
      ],
      "metadata": {
        "id": "Ypd-1KQz6qzj"
      }
    },
    {
      "cell_type": "markdown",
      "source": [
        "## 0.1. Cargar librerías previamente"
      ],
      "metadata": {
        "id": "qLJRNr-O6lOI"
      }
    },
    {
      "cell_type": "code",
      "execution_count": 93,
      "metadata": {
        "id": "qzHuiPrpp1ji"
      },
      "outputs": [],
      "source": [
        "# Carga de las librerias\n",
        "import pandas as pd\n",
        "import numpy as np\n",
        "from tensorflow.keras.models import Sequential\n",
        "from tensorflow.keras.layers import Dense, Dropout\n",
        "from tensorflow.keras.callbacks import EarlyStopping\n",
        "from sklearn.model_selection import train_test_split\n",
        "from sklearn.preprocessing import StandardScaler, LabelEncoder, OneHotEncoder\n",
        "from sklearn.ensemble import RandomForestClassifier, RandomForestRegressor\n",
        "from sklearn.metrics import accuracy_score, mean_squared_error, classification_report, mean_absolute_error, r2_score\n",
        "import matplotlib.pyplot as plt"
      ]
    },
    {
      "cell_type": "markdown",
      "source": [
        "## 1. Cargar el Conjunto de datos\n"
      ],
      "metadata": {
        "id": "vaqqz3Mw685U"
      }
    },
    {
      "cell_type": "markdown",
      "source": [
        "### 1.1. Cargar datos desde el repositorio a un dataframe"
      ],
      "metadata": {
        "id": "z2FBWB3w7hrf"
      }
    },
    {
      "cell_type": "code",
      "source": [
        "url ='https://raw.githubusercontent.com/pamelamurilloa/DataMining-ISW911-ThirdProject-MachineLearning/refs/heads/main/datos.csv'\n",
        "df = pd.read_csv(url)"
      ],
      "metadata": {
        "id": "97DHob3J6_oD"
      },
      "execution_count": 94,
      "outputs": []
    },
    {
      "cell_type": "markdown",
      "source": [
        "### 1.2. Transformaciones previas"
      ],
      "metadata": {
        "id": "3t0YXK4j7oeT"
      }
    },
    {
      "cell_type": "code",
      "source": [
        "# Validar como vienen originalmente los tipos datos\n",
        "print(df.dtypes)"
      ],
      "metadata": {
        "collapsed": true,
        "id": "wUL0LlFz7tVL",
        "outputId": "b9f85cdb-5368-4b54-b89d-17592ba938d6",
        "colab": {
          "base_uri": "https://localhost:8080/"
        }
      },
      "execution_count": 95,
      "outputs": [
        {
          "output_type": "stream",
          "name": "stdout",
          "text": [
            "churn                          object\n",
            "accountlength                 float64\n",
            "internationalplan              object\n",
            "voicemailplan                  object\n",
            "numbervmailmessages           float64\n",
            "totaldayminutes               float64\n",
            "totaldaycalls                 float64\n",
            "totaldaycharge                float64\n",
            "totaleveminutes               float64\n",
            "totalevecalls                 float64\n",
            "totalevecharge                float64\n",
            "totalnightminutes             float64\n",
            "totalnightcalls               float64\n",
            "totalnightcharge              float64\n",
            "totalintlminutes              float64\n",
            "totalintlcalls                float64\n",
            "totalintlcharge               float64\n",
            "numbercustomerservicecalls    float64\n",
            "dtype: object\n"
          ]
        }
      ]
    },
    {
      "cell_type": "code",
      "source": [
        "# Convertir las variables categóricas a un formato category (equivalente a factor en R)\n",
        "columns_to_convert = ['churn', 'internationalplan', 'voicemailplan']\n",
        "df[columns_to_convert] = df[columns_to_convert].astype('category')\n",
        "# En caso de importar el orden aplicar: df['churn'] = pd.Categorical(df['churn'], categories=['No', 'Yes'], ordered=True)\n",
        "\n",
        "print(df.dtypes)"
      ],
      "metadata": {
        "collapsed": true,
        "id": "TH7OTOQj7-Wh",
        "outputId": "96637880-3564-4c3e-8dc3-13b7f03ef72e",
        "colab": {
          "base_uri": "https://localhost:8080/"
        }
      },
      "execution_count": 96,
      "outputs": [
        {
          "output_type": "stream",
          "name": "stdout",
          "text": [
            "churn                         category\n",
            "accountlength                  float64\n",
            "internationalplan             category\n",
            "voicemailplan                 category\n",
            "numbervmailmessages            float64\n",
            "totaldayminutes                float64\n",
            "totaldaycalls                  float64\n",
            "totaldaycharge                 float64\n",
            "totaleveminutes                float64\n",
            "totalevecalls                  float64\n",
            "totalevecharge                 float64\n",
            "totalnightminutes              float64\n",
            "totalnightcalls                float64\n",
            "totalnightcharge               float64\n",
            "totalintlminutes               float64\n",
            "totalintlcalls                 float64\n",
            "totalintlcharge                float64\n",
            "numbercustomerservicecalls     float64\n",
            "dtype: object\n"
          ]
        }
      ]
    },
    {
      "cell_type": "markdown",
      "source": [
        "## 2. División de los datos en conjuntos de entrenamiento y prueba"
      ],
      "metadata": {
        "id": "YXErm53nwiWK"
      }
    },
    {
      "cell_type": "code",
      "source": [
        "# Separar el conjunto de datos en un conjunto de entrenamiento y uno de prueba\n",
        "\n",
        "# Esta separación esta enfocada en la predección de 'churn'\n",
        "\n",
        "# Variables independientes:\n",
        "x = df.loc[:, df.columns != 'churn']\n",
        "\n",
        "# Variable dependiente:\n",
        "y = df['churn']\n",
        "\n",
        "# Dividir los datos en subconjuntos aleatorios de entrenamiento y prueba\n",
        "x_train, x_test, y_train, y_test = train_test_split(x, y, test_size=0.3, random_state=0)\n",
        "print('Conjunto de datos separado para entrenamiento y prueba.')"
      ],
      "metadata": {
        "id": "aLUwnwZFuyJG",
        "outputId": "e7f08af6-6e15-4009-cf00-8150ab2f3477",
        "colab": {
          "base_uri": "https://localhost:8080/"
        }
      },
      "execution_count": 97,
      "outputs": [
        {
          "output_type": "stream",
          "name": "stdout",
          "text": [
            "Conjunto de datos separado para entrenamiento y prueba.\n"
          ]
        }
      ]
    },
    {
      "cell_type": "markdown",
      "source": [
        "## 3. Selección del modelo de Machine Learning\n",
        "\n",
        "- Red Neuronal\n",
        "- Random Forest"
      ],
      "metadata": {
        "id": "P5nfY0G0L7b5"
      }
    },
    {
      "cell_type": "markdown",
      "source": [
        "#### 3.1. Justificación de los modelos seleccionados:\n",
        "\n",
        "1. Red Neuronal: Las redes neuronales es un modelado poderoso para la predicción del 'Churn' debido a su capacidad para modelar relaciones complejas, de esta forma se pueden identificar múltiples interacciones complejan que afecten la elección de los clientes lo que una red neuronal puede aprender y modelar eficazmente. A pesar de que puede ser un modelo, complejo este se puede mantener un poco más simple, debido a su flexibilidad en la configuración y adaptación a los datos, esto debido a que nos permiten ajustar las números de capas y neuronas. Por lo que, su capacidad de modelado de relaciones, manejo de grandes cantidades de datos y flexibilidad podrían asegurar un modelo robusto, también son consideradas una 'caja negra', más sin embargo existen herramientas como lo es SHAP o LIME.\n",
        "\n",
        "2. Random Forest:"
      ],
      "metadata": {
        "id": "b5UCEN9-MDPt"
      }
    },
    {
      "cell_type": "markdown",
      "source": [
        "## 4. Entrenamiento de Modelos de Machine Learning\n"
      ],
      "metadata": {
        "id": "YdrojASNwGZw"
      }
    },
    {
      "cell_type": "markdown",
      "source": [
        "### Red Neuronal"
      ],
      "metadata": {
        "id": "Ozwm1VyrbVw6"
      }
    },
    {
      "cell_type": "markdown",
      "source": [
        "#### 4.1. Preprocesamiento adicional"
      ],
      "metadata": {
        "id": "QLjqdpFda2vA"
      }
    },
    {
      "cell_type": "code",
      "source": [
        "# Codificación de variables categóricas en las variables categóricas de entrenamiento independientes\n",
        "\n",
        "# One-Hot Encoding, manteniendo sólo una columna '..._yes'para evitar colinealidad\n",
        "x_train = pd.get_dummies(x_train, drop_first=True)\n",
        "x_test = pd.get_dummies(x_test, drop_first=True)\n",
        "\n",
        "# Asegurar que ambas divisiones tengan las mismas columnas\n",
        "x_test = x_test.reindex(columns=x_train.columns, fill_value=0)"
      ],
      "metadata": {
        "id": "XiYTl9Pgbouw"
      },
      "execution_count": 98,
      "outputs": []
    },
    {
      "cell_type": "code",
      "source": [
        "# Codificación de churn (variable dependiente), convirtiendolas en valores binarios\n",
        "\n",
        "le = LabelEncoder()\n",
        "y_train = le.fit_transform(y_train) # Aprendiendo que No -> 0, Yes -> 1\n",
        "y_test = le.transform(y_test) # Aquí ya lo aprendió, por ende sólo transforma\n",
        "\n",
        "# Confirmación del mapeo\n",
        "print(le.classes_)"
      ],
      "metadata": {
        "colab": {
          "base_uri": "https://localhost:8080/"
        },
        "id": "fpgLizFPp_J9",
        "outputId": "aa2dfd40-c006-4fbf-806e-1029c5330e87"
      },
      "execution_count": 99,
      "outputs": [
        {
          "output_type": "stream",
          "name": "stdout",
          "text": [
            "['No' 'Yes']\n"
          ]
        }
      ]
    },
    {
      "cell_type": "markdown",
      "source": [
        "#### 4.2. Definir estructura del modelo y compilarlo"
      ],
      "metadata": {
        "id": "eCUA4c3Sr9nd"
      }
    },
    {
      "cell_type": "code",
      "source": [
        "# Crear modelo de red neuronal secuencial\n",
        "model = Sequential()"
      ],
      "metadata": {
        "id": "QkEpyCOj0jLL"
      },
      "execution_count": 108,
      "outputs": []
    },
    {
      "cell_type": "code",
      "source": [
        "# Definir capas\n",
        "\n",
        "# - Capa de entrada:\n",
        "model.add(Dense(units=64, activation='relu', input_dim=x_train.shape[1]))\n",
        "\n",
        "# - Capa oculta\n",
        "model.add(Dense(units=32, activation='relu'))\n",
        "\n",
        "# - Regular con Dropout\n",
        "model.add(Dropout(0.5))\n",
        "\n",
        "# - Capa de salida\n",
        "model.add(Dense(units=1, activation='sigmoid'))"
      ],
      "metadata": {
        "id": "WsTvU1h93yKp",
        "outputId": "266ada41-f5ef-4c25-aa8d-c0a1442266bb",
        "colab": {
          "base_uri": "https://localhost:8080/"
        }
      },
      "execution_count": 109,
      "outputs": [
        {
          "output_type": "stream",
          "name": "stderr",
          "text": [
            "/usr/local/lib/python3.10/dist-packages/keras/src/layers/core/dense.py:87: UserWarning: Do not pass an `input_shape`/`input_dim` argument to a layer. When using Sequential models, prefer using an `Input(shape)` object as the first layer in the model instead.\n",
            "  super().__init__(activity_regularizer=activity_regularizer, **kwargs)\n"
          ]
        }
      ]
    },
    {
      "cell_type": "markdown",
      "source": [
        "**Explicación:**\n",
        "\n",
        "La capa de entrada recibe los datos y empieza aprenderse los patrones, mientras que la capa oculta introduce no linealidad y procesa interacciones más complejas, ya que este es su fin. Para estos dos puntos, se utilizan 64 y 32 neuronas debido a que es común y es preferido utilizar potencias de 2 como tendencia histórica.\n",
        "\n",
        "Para la capa de salida se utiliza `sigmoid` este devuelve una probabilidad, en la que si es mayor a 0.5 retorna 1, de lo contrario 0, lo cual nos ayuda a ilustrar la clasificación binaria, donde se posee sólo una salida por la misma razón, en la que se quiere predecir entres 'Yes' y 'No'."
      ],
      "metadata": {
        "id": "KMR1DwTw7zIX"
      }
    },
    {
      "cell_type": "code",
      "source": [
        "# Compilar el modelo\n",
        "model.compile(optimizer='adam', loss='binary_crossentropy', metrics=['accuracy'])"
      ],
      "metadata": {
        "id": "5Ndhg7jN_8dB"
      },
      "execution_count": 110,
      "outputs": []
    },
    {
      "cell_type": "code",
      "source": [
        "# Entrenar modelo\n",
        "\n",
        "# Detiene el entrenamiento del modelo cuando no hay mejora\n",
        "early_stopping = EarlyStopping(monitor='val_loss', patience=10, restore_best_weights=True)\n",
        "\n",
        "# Ajustar el modelo\n",
        "history = model.fit(\n",
        "    x_train, y_train,           # Datos de entrenamiento\n",
        "    validation_split=0.2,       # Usar el 20% del entrenamiento como validación\n",
        "    epochs=100,                 # Número máximo de épocas\n",
        "    batch_size=32,              # Tamaño del lote\n",
        "    callbacks=[early_stopping], # Para finalizar si después de 5 iteraciones no mejora\n",
        "    verbose=1                   # Nivel de detalle de la salida\n",
        ")"
      ],
      "metadata": {
        "id": "oLQnwrD1BFA4",
        "outputId": "17d24148-4ca9-43cb-b262-ebfb39e4d3eb",
        "colab": {
          "base_uri": "https://localhost:8080/"
        }
      },
      "execution_count": 111,
      "outputs": [
        {
          "output_type": "stream",
          "name": "stdout",
          "text": [
            "Epoch 1/100\n",
            "\u001b[1m88/88\u001b[0m \u001b[32m━━━━━━━━━━━━━━━━━━━━\u001b[0m\u001b[37m\u001b[0m \u001b[1m1s\u001b[0m 4ms/step - accuracy: 0.6466 - loss: 0.6273 - val_accuracy: 0.8529 - val_loss: 0.4271\n",
            "Epoch 2/100\n",
            "\u001b[1m88/88\u001b[0m \u001b[32m━━━━━━━━━━━━━━━━━━━━\u001b[0m\u001b[37m\u001b[0m \u001b[1m1s\u001b[0m 3ms/step - accuracy: 0.8538 - loss: 0.4072 - val_accuracy: 0.8529 - val_loss: 0.4108\n",
            "Epoch 3/100\n",
            "\u001b[1m88/88\u001b[0m \u001b[32m━━━━━━━━━━━━━━━━━━━━\u001b[0m\u001b[37m\u001b[0m \u001b[1m0s\u001b[0m 2ms/step - accuracy: 0.8608 - loss: 0.3932 - val_accuracy: 0.8657 - val_loss: 0.3957\n",
            "Epoch 4/100\n",
            "\u001b[1m88/88\u001b[0m \u001b[32m━━━━━━━━━━━━━━━━━━━━\u001b[0m\u001b[37m\u001b[0m \u001b[1m1s\u001b[0m 5ms/step - accuracy: 0.8641 - loss: 0.3739 - val_accuracy: 0.8700 - val_loss: 0.3839\n",
            "Epoch 5/100\n",
            "\u001b[1m88/88\u001b[0m \u001b[32m━━━━━━━━━━━━━━━━━━━━\u001b[0m\u001b[37m\u001b[0m \u001b[1m0s\u001b[0m 4ms/step - accuracy: 0.8813 - loss: 0.3508 - val_accuracy: 0.8786 - val_loss: 0.3730\n",
            "Epoch 6/100\n",
            "\u001b[1m88/88\u001b[0m \u001b[32m━━━━━━━━━━━━━━━━━━━━\u001b[0m\u001b[37m\u001b[0m \u001b[1m1s\u001b[0m 5ms/step - accuracy: 0.8767 - loss: 0.3553 - val_accuracy: 0.8814 - val_loss: 0.3625\n",
            "Epoch 7/100\n",
            "\u001b[1m88/88\u001b[0m \u001b[32m━━━━━━━━━━━━━━━━━━━━\u001b[0m\u001b[37m\u001b[0m \u001b[1m0s\u001b[0m 3ms/step - accuracy: 0.8880 - loss: 0.3118 - val_accuracy: 0.8886 - val_loss: 0.3496\n",
            "Epoch 8/100\n",
            "\u001b[1m88/88\u001b[0m \u001b[32m━━━━━━━━━━━━━━━━━━━━\u001b[0m\u001b[37m\u001b[0m \u001b[1m1s\u001b[0m 3ms/step - accuracy: 0.8828 - loss: 0.3293 - val_accuracy: 0.8943 - val_loss: 0.3420\n",
            "Epoch 9/100\n",
            "\u001b[1m88/88\u001b[0m \u001b[32m━━━━━━━━━━━━━━━━━━━━\u001b[0m\u001b[37m\u001b[0m \u001b[1m1s\u001b[0m 4ms/step - accuracy: 0.8943 - loss: 0.3068 - val_accuracy: 0.8929 - val_loss: 0.3363\n",
            "Epoch 10/100\n",
            "\u001b[1m88/88\u001b[0m \u001b[32m━━━━━━━━━━━━━━━━━━━━\u001b[0m\u001b[37m\u001b[0m \u001b[1m1s\u001b[0m 3ms/step - accuracy: 0.9005 - loss: 0.3129 - val_accuracy: 0.8957 - val_loss: 0.3290\n",
            "Epoch 11/100\n",
            "\u001b[1m88/88\u001b[0m \u001b[32m━━━━━━━━━━━━━━━━━━━━\u001b[0m\u001b[37m\u001b[0m \u001b[1m0s\u001b[0m 2ms/step - accuracy: 0.9036 - loss: 0.2957 - val_accuracy: 0.8871 - val_loss: 0.3270\n",
            "Epoch 12/100\n",
            "\u001b[1m88/88\u001b[0m \u001b[32m━━━━━━━━━━━━━━━━━━━━\u001b[0m\u001b[37m\u001b[0m \u001b[1m0s\u001b[0m 2ms/step - accuracy: 0.9027 - loss: 0.2819 - val_accuracy: 0.8957 - val_loss: 0.3235\n",
            "Epoch 13/100\n",
            "\u001b[1m88/88\u001b[0m \u001b[32m━━━━━━━━━━━━━━━━━━━━\u001b[0m\u001b[37m\u001b[0m \u001b[1m0s\u001b[0m 2ms/step - accuracy: 0.9001 - loss: 0.2966 - val_accuracy: 0.8986 - val_loss: 0.3217\n",
            "Epoch 14/100\n",
            "\u001b[1m88/88\u001b[0m \u001b[32m━━━━━━━━━━━━━━━━━━━━\u001b[0m\u001b[37m\u001b[0m \u001b[1m0s\u001b[0m 2ms/step - accuracy: 0.9166 - loss: 0.2496 - val_accuracy: 0.9000 - val_loss: 0.3180\n",
            "Epoch 15/100\n",
            "\u001b[1m88/88\u001b[0m \u001b[32m━━━━━━━━━━━━━━━━━━━━\u001b[0m\u001b[37m\u001b[0m \u001b[1m0s\u001b[0m 2ms/step - accuracy: 0.9063 - loss: 0.2746 - val_accuracy: 0.9014 - val_loss: 0.3137\n",
            "Epoch 16/100\n",
            "\u001b[1m88/88\u001b[0m \u001b[32m━━━━━━━━━━━━━━━━━━━━\u001b[0m\u001b[37m\u001b[0m \u001b[1m0s\u001b[0m 2ms/step - accuracy: 0.9118 - loss: 0.2718 - val_accuracy: 0.8971 - val_loss: 0.3176\n",
            "Epoch 17/100\n",
            "\u001b[1m88/88\u001b[0m \u001b[32m━━━━━━━━━━━━━━━━━━━━\u001b[0m\u001b[37m\u001b[0m \u001b[1m0s\u001b[0m 2ms/step - accuracy: 0.9172 - loss: 0.2647 - val_accuracy: 0.8986 - val_loss: 0.3135\n",
            "Epoch 18/100\n",
            "\u001b[1m88/88\u001b[0m \u001b[32m━━━━━━━━━━━━━━━━━━━━\u001b[0m\u001b[37m\u001b[0m \u001b[1m0s\u001b[0m 2ms/step - accuracy: 0.9076 - loss: 0.2776 - val_accuracy: 0.9043 - val_loss: 0.3117\n",
            "Epoch 19/100\n",
            "\u001b[1m88/88\u001b[0m \u001b[32m━━━━━━━━━━━━━━━━━━━━\u001b[0m\u001b[37m\u001b[0m \u001b[1m0s\u001b[0m 3ms/step - accuracy: 0.9172 - loss: 0.2522 - val_accuracy: 0.9029 - val_loss: 0.3110\n",
            "Epoch 20/100\n",
            "\u001b[1m88/88\u001b[0m \u001b[32m━━━━━━━━━━━━━━━━━━━━\u001b[0m\u001b[37m\u001b[0m \u001b[1m0s\u001b[0m 2ms/step - accuracy: 0.9143 - loss: 0.2637 - val_accuracy: 0.9071 - val_loss: 0.3054\n",
            "Epoch 21/100\n",
            "\u001b[1m88/88\u001b[0m \u001b[32m━━━━━━━━━━━━━━━━━━━━\u001b[0m\u001b[37m\u001b[0m \u001b[1m0s\u001b[0m 2ms/step - accuracy: 0.9143 - loss: 0.2699 - val_accuracy: 0.9043 - val_loss: 0.3100\n",
            "Epoch 22/100\n",
            "\u001b[1m88/88\u001b[0m \u001b[32m━━━━━━━━━━━━━━━━━━━━\u001b[0m\u001b[37m\u001b[0m \u001b[1m0s\u001b[0m 2ms/step - accuracy: 0.9132 - loss: 0.2572 - val_accuracy: 0.9086 - val_loss: 0.3137\n",
            "Epoch 23/100\n",
            "\u001b[1m88/88\u001b[0m \u001b[32m━━━━━━━━━━━━━━━━━━━━\u001b[0m\u001b[37m\u001b[0m \u001b[1m0s\u001b[0m 2ms/step - accuracy: 0.9129 - loss: 0.2549 - val_accuracy: 0.9071 - val_loss: 0.3043\n",
            "Epoch 24/100\n",
            "\u001b[1m88/88\u001b[0m \u001b[32m━━━━━━━━━━━━━━━━━━━━\u001b[0m\u001b[37m\u001b[0m \u001b[1m0s\u001b[0m 2ms/step - accuracy: 0.9245 - loss: 0.2412 - val_accuracy: 0.9086 - val_loss: 0.3047\n",
            "Epoch 25/100\n",
            "\u001b[1m88/88\u001b[0m \u001b[32m━━━━━━━━━━━━━━━━━━━━\u001b[0m\u001b[37m\u001b[0m \u001b[1m0s\u001b[0m 2ms/step - accuracy: 0.9129 - loss: 0.2520 - val_accuracy: 0.9043 - val_loss: 0.3057\n",
            "Epoch 26/100\n",
            "\u001b[1m88/88\u001b[0m \u001b[32m━━━━━━━━━━━━━━━━━━━━\u001b[0m\u001b[37m\u001b[0m \u001b[1m0s\u001b[0m 2ms/step - accuracy: 0.9179 - loss: 0.2515 - val_accuracy: 0.9029 - val_loss: 0.3013\n",
            "Epoch 27/100\n",
            "\u001b[1m88/88\u001b[0m \u001b[32m━━━━━━━━━━━━━━━━━━━━\u001b[0m\u001b[37m\u001b[0m \u001b[1m0s\u001b[0m 2ms/step - accuracy: 0.9229 - loss: 0.2301 - val_accuracy: 0.9086 - val_loss: 0.3028\n",
            "Epoch 28/100\n",
            "\u001b[1m88/88\u001b[0m \u001b[32m━━━━━━━━━━━━━━━━━━━━\u001b[0m\u001b[37m\u001b[0m \u001b[1m0s\u001b[0m 2ms/step - accuracy: 0.9162 - loss: 0.2348 - val_accuracy: 0.9086 - val_loss: 0.3004\n",
            "Epoch 29/100\n",
            "\u001b[1m88/88\u001b[0m \u001b[32m━━━━━━━━━━━━━━━━━━━━\u001b[0m\u001b[37m\u001b[0m \u001b[1m0s\u001b[0m 2ms/step - accuracy: 0.9150 - loss: 0.2510 - val_accuracy: 0.9057 - val_loss: 0.3033\n",
            "Epoch 30/100\n",
            "\u001b[1m88/88\u001b[0m \u001b[32m━━━━━━━━━━━━━━━━━━━━\u001b[0m\u001b[37m\u001b[0m \u001b[1m0s\u001b[0m 2ms/step - accuracy: 0.9171 - loss: 0.2497 - val_accuracy: 0.9071 - val_loss: 0.2982\n",
            "Epoch 31/100\n",
            "\u001b[1m88/88\u001b[0m \u001b[32m━━━━━━━━━━━━━━━━━━━━\u001b[0m\u001b[37m\u001b[0m \u001b[1m0s\u001b[0m 2ms/step - accuracy: 0.9251 - loss: 0.2320 - val_accuracy: 0.9043 - val_loss: 0.3065\n",
            "Epoch 32/100\n",
            "\u001b[1m88/88\u001b[0m \u001b[32m━━━━━━━━━━━━━━━━━━━━\u001b[0m\u001b[37m\u001b[0m \u001b[1m0s\u001b[0m 2ms/step - accuracy: 0.9123 - loss: 0.2553 - val_accuracy: 0.9071 - val_loss: 0.3085\n",
            "Epoch 33/100\n",
            "\u001b[1m88/88\u001b[0m \u001b[32m━━━━━━━━━━━━━━━━━━━━\u001b[0m\u001b[37m\u001b[0m \u001b[1m0s\u001b[0m 2ms/step - accuracy: 0.9243 - loss: 0.2283 - val_accuracy: 0.9086 - val_loss: 0.3058\n",
            "Epoch 34/100\n",
            "\u001b[1m88/88\u001b[0m \u001b[32m━━━━━━━━━━━━━━━━━━━━\u001b[0m\u001b[37m\u001b[0m \u001b[1m0s\u001b[0m 2ms/step - accuracy: 0.9239 - loss: 0.2303 - val_accuracy: 0.9071 - val_loss: 0.3048\n",
            "Epoch 35/100\n",
            "\u001b[1m88/88\u001b[0m \u001b[32m━━━━━━━━━━━━━━━━━━━━\u001b[0m\u001b[37m\u001b[0m \u001b[1m0s\u001b[0m 2ms/step - accuracy: 0.9285 - loss: 0.2223 - val_accuracy: 0.9057 - val_loss: 0.3043\n",
            "Epoch 36/100\n",
            "\u001b[1m88/88\u001b[0m \u001b[32m━━━━━━━━━━━━━━━━━━━━\u001b[0m\u001b[37m\u001b[0m \u001b[1m0s\u001b[0m 2ms/step - accuracy: 0.9209 - loss: 0.2407 - val_accuracy: 0.9071 - val_loss: 0.3025\n",
            "Epoch 37/100\n",
            "\u001b[1m88/88\u001b[0m \u001b[32m━━━━━━━━━━━━━━━━━━━━\u001b[0m\u001b[37m\u001b[0m \u001b[1m0s\u001b[0m 3ms/step - accuracy: 0.9296 - loss: 0.2275 - val_accuracy: 0.9071 - val_loss: 0.3069\n",
            "Epoch 38/100\n",
            "\u001b[1m88/88\u001b[0m \u001b[32m━━━━━━━━━━━━━━━━━━━━\u001b[0m\u001b[37m\u001b[0m \u001b[1m0s\u001b[0m 2ms/step - accuracy: 0.9267 - loss: 0.2157 - val_accuracy: 0.9071 - val_loss: 0.3043\n",
            "Epoch 39/100\n",
            "\u001b[1m88/88\u001b[0m \u001b[32m━━━━━━━━━━━━━━━━━━━━\u001b[0m\u001b[37m\u001b[0m \u001b[1m0s\u001b[0m 2ms/step - accuracy: 0.9256 - loss: 0.2260 - val_accuracy: 0.9071 - val_loss: 0.3001\n",
            "Epoch 40/100\n",
            "\u001b[1m88/88\u001b[0m \u001b[32m━━━━━━━━━━━━━━━━━━━━\u001b[0m\u001b[37m\u001b[0m \u001b[1m0s\u001b[0m 2ms/step - accuracy: 0.9294 - loss: 0.2215 - val_accuracy: 0.9057 - val_loss: 0.3028\n"
          ]
        }
      ]
    },
    {
      "cell_type": "code",
      "source": [
        "# Visualizar resultados del rendimiento del entrenamiento\n",
        "\n",
        "fig, axes = plt.subplots(1, 2, figsize=(15, 5))  # 1 row, 2 columns\n",
        "\n",
        "# Pérdida\n",
        "axes[0].plot(history.history['loss'], label='Pérdida de entrenamiento')\n",
        "axes[0].plot(history.history['val_loss'], label='Pérdida de validación')\n",
        "axes[0].legend()\n",
        "axes[0].set_title('Pérdida durante el entrenamiento')\n",
        "axes[0].set_xlabel('Épocas')\n",
        "axes[0].set_ylabel('Pérdida')\n",
        "\n",
        "# Precisión\n",
        "axes[1].plot(history.history['accuracy'], label='Precisión de entrenamiento')\n",
        "axes[1].plot(history.history['val_accuracy'], label='Precisión de validación')\n",
        "axes[1].legend()\n",
        "axes[1].set_title('Precisión durante el entrenamiento')\n",
        "axes[1].set_xlabel('Épocas')\n",
        "axes[1].set_ylabel('Precisión')\n",
        "\n",
        "plt.show()"
      ],
      "metadata": {
        "id": "h1ItWoGyE4kJ",
        "outputId": "a00de093-3316-497f-d5fc-9ad107cdfa46",
        "colab": {
          "base_uri": "https://localhost:8080/",
          "height": 489
        }
      },
      "execution_count": 112,
      "outputs": [
        {
          "output_type": "display_data",
          "data": {
            "text/plain": [
              "<Figure size 1500x500 with 2 Axes>"
            ],
            "image/png": "[encoded data removed]"
          },
          "metadata": {}
        }
      ]
    },
    {
      "cell_type": "markdown",
      "source": [
        "## Random Forest"
      ],
      "metadata": {
        "id": "k5bJFoVTwyj8"
      }
    },
    {
      "cell_type": "code",
      "source": [
        "## Bootstraping\n",
        "\n",
        "\n",
        "X = df.drop('{columna}', axis=1)\n",
        "y = df['{columna}']\n",
        "\n",
        "# División de datos entre prueba y entrenamiento\n",
        "\n",
        "X_train, X_test, y_train, y_test = train_test_split(X, y, test_size=0.3, random_state=0) # El 0.3 puede cambiarse a 0.1 o 0.2, podemos ir probando"
      ],
      "metadata": {
        "id": "wsIH8mXz0aX0"
      },
      "execution_count": null,
      "outputs": []
    },
    {
      "cell_type": "markdown",
      "source": [
        "### Regresión"
      ],
      "metadata": {
        "id": "gLM0xaG5zLKx"
      }
    },
    {
      "cell_type": "code",
      "source": [
        "forest_reg = RandomForestRegressor(\n",
        "                                    n_estimators=25, # Se puede incrementar si se ve que lo ocupamos, normalmente se utiliza 100 pero esto hace las pruebas mas rapidas\n",
        "                                    random_state=1,\n",
        "                                    max_features='sqrt',\n",
        "                                    max_depth=10\n",
        "                                  )\n",
        "\n",
        "# Entrenando el modelo\n",
        "forest_reg.fit(X_train, y_train)\n",
        "\n",
        "# Make predictions\n",
        "y_pred = forest_reg.predict(X_test)\n",
        "\n",
        "# Evaluando el modelo\n",
        "error_cuadrado = mean_squared_error(y_test, y_pred)\n",
        "error_absoluto = mean_absolute_error(y_test, y_pred)\n",
        "r2 = r2_score(y_test, y_pred)\n",
        "\n",
        "print(\"Mean Squared Error (MSE):\", error_cuadrado)\n",
        "print(\"Mean Absolute Error (MAE):\", error_absoluto)\n",
        "print(\"R-squared (R²):\", r2)\n",
        "print('Train R²: %.5f' % forest_reg.score(X_train, y_train))\n",
        "print('Test R²: %.5f' % forest_reg.score(X_test, y_test))"
      ],
      "metadata": {
        "id": "IHMiHxgPzML7"
      },
      "execution_count": null,
      "outputs": []
    },
    {
      "cell_type": "markdown",
      "source": [
        "### Clasificación\n",
        "\n"
      ],
      "metadata": {
        "id": "cmpCYDngzEb5"
      }
    },
    {
      "cell_type": "code",
      "source": [
        "forest_cla = RandomForestClassifier(\n",
        "                                    n_estimators=25,\n",
        "                                    random_state=1,\n",
        "                                    criterion='entropy', # Se puede cambiar a gini para ver si da mejor resultado\n",
        "                                    max_features='sqrt',\n",
        "                                    max_depth=10\n",
        "                                  )\n",
        "\n",
        "# Entrenando el modelo\n",
        "forest_cla.fit(X_train, y_train)\n",
        "\n",
        "# Hacer predicciones\n",
        "y_pred = forest_cla.predict(X_test)\n",
        "\n",
        "## Evaluando el modelo\n",
        "accuracy = accuracy_score(y_test, y_pred)\n",
        "\n",
        "print('Train Accuracy : %.5f' % forest_cla.score(X_train, y_train))\n",
        "print('Test Accuracy : %.5f' % forest_cla.score(X_test, y_test))\n",
        "print(classification_report(y_test, y_pred))\n",
        "\n",
        "## No se tienen que poner todas las formas de evaluacion, solo la que nos funcione mas"
      ],
      "metadata": {
        "id": "z-4PPm2izKC7"
      },
      "execution_count": null,
      "outputs": []
    },
    {
      "cell_type": "markdown",
      "source": [
        "# Videos que vi para ayudar con esto (esta parte luego se quita)\n",
        "\n",
        "\n",
        "*   https://www.youtube.com/watch?v=AYICIq5jnhU\n",
        "*   https://www.youtube.com/watch?v=3pa0vtW64Ic\n",
        "\n",
        "# Para las redes neuronales:\n",
        "*   https://www.youtube.com/watch?v=CU24iC3grq8\n",
        "*   https://www.youtube.com/watch?v=iX_on3VxZzk\n",
        "*   https://www.youtube.com/watch?v=V_pfbVudr8w"
      ],
      "metadata": {
        "id": "MuySyqMkzasw"
      }
    }
  ]
}