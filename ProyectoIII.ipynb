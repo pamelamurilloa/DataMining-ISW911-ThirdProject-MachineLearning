{
  "nbformat": 4,
  "nbformat_minor": 0,
  "metadata": {
    "colab": {
      "provenance": [],
      "toc_visible": true,
      "authorship_tag": "ABX9TyNgOv+JUJ3an248s8XqcBHF",
      "include_colab_link": true
    },
    "kernelspec": {
      "name": "python3",
      "display_name": "Python 3"
    },
    "language_info": {
      "name": "python"
    }
  },
  "cells": [
    {
      "cell_type": "markdown",
      "metadata": {
        "id": "view-in-github",
        "colab_type": "text"
      },
      "source": [
        "<a href=\"https://colab.research.google.com/github/pamelamurilloa/DataMining-ISW911-ThirdProject-MachineLearning/blob/main/ProyectoIII.ipynb\" target=\"_parent\"><img src=\"https://colab.research.google.com/assets/colab-badge.svg\" alt=\"Open In Colab\"/></a>"
      ]
    },
    {
      "cell_type": "code",
      "execution_count": 1,
      "metadata": {
        "id": "qzHuiPrpp1ji"
      },
      "outputs": [],
      "source": [
        "# Carga de las librerias\n",
        "import pandas as pd\n",
        "import numpy as np\n",
        "from keras.models import Sequential\n",
        "from keras.layers import Dense\n",
        "from sklearn.model_selection import train_test_split\n",
        "from sklearn.preprocessing import StandardScaler, LabelEncoder\n",
        "from sklearn.ensemble import RandomForestClassifier, RandomForestRegressor\n",
        "from sklearn.metrics import accuracy_score, mean_squared_error, classification_report, mean_absolute_error, r2_score\n",
        "import matplotlib.pyplot as plt\n",
        "\n",
        "# Cargar los datos\n",
        "url ='https://raw.githubusercontent.com/pamelamurilloa/DataMining-ISW911-ThirdProject-MachineLearning/refs/heads/main/df_transformed.csv'\n",
        "df = pd.read_csv(url)"
      ]
    },
    {
      "cell_type": "markdown",
      "source": [
        "# Separación de Datos"
      ],
      "metadata": {
        "id": "YXErm53nwiWK"
      }
    },
    {
      "cell_type": "code",
      "source": [],
      "metadata": {
        "id": "aLUwnwZFuyJG"
      },
      "execution_count": null,
      "outputs": []
    },
    {
      "cell_type": "markdown",
      "source": [
        "# Implementación de Machine Learning\n",
        "\n",
        "\n"
      ],
      "metadata": {
        "id": "YdrojASNwGZw"
      }
    },
    {
      "cell_type": "markdown",
      "source": [
        "## Redes Neuronales\n",
        "\n"
      ],
      "metadata": {
        "id": "sZI_9BQIw17H"
      }
    },
    {
      "cell_type": "markdown",
      "source": [
        "## Random Forest"
      ],
      "metadata": {
        "id": "k5bJFoVTwyj8"
      }
    },
    {
      "cell_type": "code",
      "source": [
        "## Bootstraping\n",
        "\n",
        "\n",
        "X = df.drop('{columna}', axis=1)\n",
        "y = df['{columna}']\n",
        "\n",
        "# División de datos entre prueba y entrenamiento\n",
        "\n",
        "X_train, X_test, y_train, y_test = train_test_split(X, y, test_size=0.3, random_state=0) # El 0.3 puede cambiarse a 0.1 o 0.2, podemos ir probando"
      ],
      "metadata": {
        "id": "wsIH8mXz0aX0"
      },
      "execution_count": null,
      "outputs": []
    },
    {
      "cell_type": "markdown",
      "source": [
        "### Regresión"
      ],
      "metadata": {
        "id": "gLM0xaG5zLKx"
      }
    },
    {
      "cell_type": "code",
      "source": [
        "forest_reg = RandomForestRegressor(\n",
        "                                    n_estimators=25, # Se puede incrementar si se ve que lo ocupamos, normalmente se utiliza 100 pero esto hace las pruebas mas rapidas\n",
        "                                    random_state=1,\n",
        "                                    max_features='sqrt',\n",
        "                                    max_depth=10\n",
        "                                  )\n",
        "\n",
        "# Entrenando el modelo\n",
        "forest_reg.fit(X_train, y_train)\n",
        "\n",
        "# Make predictions\n",
        "y_pred = forest_reg.predict(X_test)\n",
        "\n",
        "# Evaluando el modelo\n",
        "error_cuadrado = mean_squared_error(y_test, y_pred)\n",
        "error_absoluto = mean_absolute_error(y_test, y_pred)\n",
        "r2 = r2_score(y_test, y_pred)\n",
        "\n",
        "print(\"Mean Squared Error (MSE):\", error_cuadrado)\n",
        "print(\"Mean Absolute Error (MAE):\", error_absoluto)\n",
        "print(\"R-squared (R²):\", r2)\n",
        "print('Train R²: %.5f' % forest_reg.score(X_train, y_train))\n",
        "print('Test R²: %.5f' % forest_reg.score(X_test, y_test))"
      ],
      "metadata": {
        "id": "IHMiHxgPzML7"
      },
      "execution_count": null,
      "outputs": []
    },
    {
      "cell_type": "markdown",
      "source": [
        "### Clasificación\n",
        "\n"
      ],
      "metadata": {
        "id": "cmpCYDngzEb5"
      }
    },
    {
      "cell_type": "code",
      "source": [
        "forest_cla = RandomForestClassifier(\n",
        "                                    n_estimators=25,\n",
        "                                    random_state=1,\n",
        "                                    criterion='entropy', # Se puede cambiar a gini para ver si da mejor resultado\n",
        "                                    max_features='sqrt',\n",
        "                                    max_depth=10\n",
        "                                  )\n",
        "\n",
        "# Entrenando el modelo\n",
        "forest_cla.fit(X_train, y_train)\n",
        "\n",
        "# Hacer predicciones\n",
        "y_pred = forest_cla.predict(X_test)\n",
        "\n",
        "## Evaluando el modelo\n",
        "accuracy = accuracy_score(y_test, y_pred)\n",
        "\n",
        "print('Train Accuracy : %.5f' % forest_cla.score(X_train, y_train))\n",
        "print('Test Accuracy : %.5f' % forest_cla.score(X_test, y_test))\n",
        "print(classification_report(y_test, y_pred))\n",
        "\n",
        "## No se tienen que poner todas las formas de evaluacion, solo la que nos funcione mas"
      ],
      "metadata": {
        "id": "z-4PPm2izKC7"
      },
      "execution_count": null,
      "outputs": []
    },
    {
      "cell_type": "markdown",
      "source": [
        "# Videos que vi para ayudar con esto (esta parte luego se quita)\n",
        "\n",
        "\n",
        "*   https://www.youtube.com/watch?v=AYICIq5jnhU\n",
        "*   https://www.youtube.com/watch?v=3pa0vtW64Ic\n",
        "\n",
        "\n"
      ],
      "metadata": {
        "id": "MuySyqMkzasw"
      }
    }
  ]
}