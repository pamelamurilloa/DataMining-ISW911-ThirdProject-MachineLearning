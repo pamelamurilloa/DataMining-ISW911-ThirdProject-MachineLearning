{
  "nbformat": 4,
  "nbformat_minor": 0,
  "metadata": {
    "colab": {
      "provenance": [],
      "include_colab_link": true
    },
    "kernelspec": {
      "name": "python3",
      "display_name": "Python 3"
    },
    "language_info": {
      "name": "python"
    }
  },
  "cells": [
    {
      "cell_type": "markdown",
      "metadata": {
        "id": "view-in-github",
        "colab_type": "text"
      },
      "source": [
        "<a href=\"https://colab.research.google.com/github/pamelamurilloa/DataMining-ISW911-ThirdProject-MachineLearning/blob/main/ProyectoIII.ipynb\" target=\"_parent\"><img src=\"https://colab.research.google.com/assets/colab-badge.svg\" alt=\"Open In Colab\"/></a>"
      ]
    },
    {
      "cell_type": "markdown",
      "source": [
        "# Proyecto III - Machine Learning"
      ],
      "metadata": {
        "id": "c5K3-ZzA6cfQ"
      }
    },
    {
      "cell_type": "markdown",
      "source": [
        "## 0. Descripción de las variables del dataset"
      ],
      "metadata": {
        "id": "SybT1z1F63xF"
      }
    },
    {
      "cell_type": "markdown",
      "source": [
        "1. **churn:** Indica si un cliente ha abandonado el servicio o no.\n",
        "2. **accountlength:** Tiempo, en días, que el cliente lleva con el servicio.\n",
        "3. **internationalplan:** Indica si el cliente tiene un plan de llamadas internacionales.\n",
        "4. **voicemailplan:** Indica si el cliente tiene un plan de buzón de voz.\n",
        "5. **numbervmailmessages:** Número de mensajes de voz recibidos por el cliente.\n",
        "6. **totaldayminutes:** Total de minutos usados por el cliente durante el día.\n",
        "7. **totaldaycalls:** Total de llamadas realizadas durante el día.\n",
        "8. **totaldaycharge:** Costo total de las llamadas realizadas durante el día, en dólares.\n",
        "9. **totaleveminutes:** Total de minutos usados por el cliente durante la tarde.\n",
        "10. **totalevecalls:** Total de llamadas realizadas durante la tarde.\n",
        "11. **totalevecharge:** Costo total de las llamadas realizadas durante la tarde, en dólares.\n",
        "12. **totalnightminutes:** Total de minutos usados por el cliente durante la noche.\n",
        "13. **totalnightcalls:** Total de llamadas realizadas durante la noche.\n",
        "14. **totalnightcharge:** Costo total de las llamadas realizadas durante la noche, en dólares.\n",
        "15. **totalintlminutes:** Total de minutos usados en llamadas internacionales.\n",
        "16. **totalintlcalls:** Total de llamadas internacionales realizadas.\n",
        "17. **totalintlcharge:** Costo total de las llamadas internacionales, en dólares.\n",
        "18. **numbercustomerservicecalls:** Número de llamadas realizadas por el cliente al servicio de atención al cliente."
      ],
      "metadata": {
        "id": "Ypd-1KQz6qzj"
      }
    },
    {
      "cell_type": "markdown",
      "source": [
        "## 0.1. Cargar librerías previamente"
      ],
      "metadata": {
        "id": "qLJRNr-O6lOI"
      }
    },
    {
      "cell_type": "code",
      "execution_count": 2,
      "metadata": {
        "id": "qzHuiPrpp1ji"
      },
      "outputs": [],
      "source": [
        "# Carga de las librerias\n",
        "import pandas as pd\n",
        "import numpy as np\n",
        "from keras.models import Sequential\n",
        "from keras.layers import Dense\n",
        "from sklearn.model_selection import train_test_split\n",
        "from sklearn.preprocessing import StandardScaler, LabelEncoder\n",
        "from sklearn.ensemble import RandomForestClassifier, RandomForestRegressor\n",
        "from sklearn.metrics import accuracy_score, mean_squared_error, classification_report, mean_absolute_error, r2_score\n",
        "import matplotlib.pyplot as plt"
      ]
    },
    {
      "cell_type": "markdown",
      "source": [
        "## 1. Cargar el Conjunto de datos\n"
      ],
      "metadata": {
        "id": "vaqqz3Mw685U"
      }
    },
    {
      "cell_type": "markdown",
      "source": [
        "### 1.1. Cargar datos desde el repositorio a un dataframe"
      ],
      "metadata": {
        "id": "z2FBWB3w7hrf"
      }
    },
    {
      "cell_type": "code",
      "source": [
        "url ='https://raw.githubusercontent.com/pamelamurilloa/DataMining-ISW911-ThirdProject-MachineLearning/refs/heads/main/datos.csv'\n",
        "df = pd.read_csv(url)"
      ],
      "metadata": {
        "id": "97DHob3J6_oD"
      },
      "execution_count": 3,
      "outputs": []
    },
    {
      "cell_type": "markdown",
      "source": [
        "### 1.2. Transformaciones previas"
      ],
      "metadata": {
        "id": "3t0YXK4j7oeT"
      }
    },
    {
      "cell_type": "code",
      "source": [
        "# Validar como vienen originalmente los tipos datos\n",
        "print(df.dtypes)"
      ],
      "metadata": {
        "collapsed": true,
        "id": "wUL0LlFz7tVL",
        "outputId": "4d42f35e-8361-473d-923a-5426b02df3cc",
        "colab": {
          "base_uri": "https://localhost:8080/"
        }
      },
      "execution_count": 4,
      "outputs": [
        {
          "output_type": "stream",
          "name": "stdout",
          "text": [
            "churn                          object\n",
            "accountlength                 float64\n",
            "internationalplan              object\n",
            "voicemailplan                  object\n",
            "numbervmailmessages           float64\n",
            "totaldayminutes               float64\n",
            "totaldaycalls                 float64\n",
            "totaldaycharge                float64\n",
            "totaleveminutes               float64\n",
            "totalevecalls                 float64\n",
            "totalevecharge                float64\n",
            "totalnightminutes             float64\n",
            "totalnightcalls               float64\n",
            "totalnightcharge              float64\n",
            "totalintlminutes              float64\n",
            "totalintlcalls                float64\n",
            "totalintlcharge               float64\n",
            "numbercustomerservicecalls    float64\n",
            "dtype: object\n"
          ]
        }
      ]
    },
    {
      "cell_type": "code",
      "source": [
        "# Convertir las variables categóricas a un formato category (equivalente a factor en R)\n",
        "columns_to_convert = ['churn', 'internationalplan', 'voicemailplan']\n",
        "df[columns_to_convert] = df[columns_to_convert].astype('category')\n",
        "# En caso de importar el orden aplicar: df['churn'] = pd.Categorical(df['churn'], categories=['No', 'Yes'], ordered=True)\n",
        "\n",
        "print(df.dtypes)"
      ],
      "metadata": {
        "collapsed": true,
        "id": "TH7OTOQj7-Wh",
        "outputId": "4324f45f-a649-4141-bc19-655301d599ef",
        "colab": {
          "base_uri": "https://localhost:8080/"
        }
      },
      "execution_count": 5,
      "outputs": [
        {
          "output_type": "stream",
          "name": "stdout",
          "text": [
            "churn                         category\n",
            "accountlength                  float64\n",
            "internationalplan             category\n",
            "voicemailplan                 category\n",
            "numbervmailmessages            float64\n",
            "totaldayminutes                float64\n",
            "totaldaycalls                  float64\n",
            "totaldaycharge                 float64\n",
            "totaleveminutes                float64\n",
            "totalevecalls                  float64\n",
            "totalevecharge                 float64\n",
            "totalnightminutes              float64\n",
            "totalnightcalls                float64\n",
            "totalnightcharge               float64\n",
            "totalintlminutes               float64\n",
            "totalintlcalls                 float64\n",
            "totalintlcharge                float64\n",
            "numbercustomerservicecalls     float64\n",
            "dtype: object\n"
          ]
        }
      ]
    },
    {
      "cell_type": "markdown",
      "source": [
        "## 2. División de los datos en conjuntos de entrenamiento y prueba"
      ],
      "metadata": {
        "id": "YXErm53nwiWK"
      }
    },
    {
      "cell_type": "code",
      "source": [
        "# Separar el conjunto de datos en un conjunto de entrenamiento y uno de prueba\n",
        "\n",
        "# Esta separación esta enfocada en la predección de 'churn'\n",
        "\n",
        "# Variables independientes:\n",
        "x = df.loc[:, df.columns != 'churn']\n",
        "\n",
        "# Variable dependiente:\n",
        "y = df['churn']\n",
        "\n",
        "# Dividir los datos en subconjuntos aleatorios de entrenamiento y prueba\n",
        "x_train, x_test, y_train, y_test = train_test_split(x, y, test_size=0.3, random_state=0)\n",
        "print('Conjunto de datos separado para entrenamiento y prueba.')"
      ],
      "metadata": {
        "id": "aLUwnwZFuyJG",
        "outputId": "9fa9b852-39b3-48aa-8f2a-1a80e73b4235",
        "colab": {
          "base_uri": "https://localhost:8080/"
        }
      },
      "execution_count": 12,
      "outputs": [
        {
          "output_type": "stream",
          "name": "stdout",
          "text": [
            "Conjunto de datos separado para entrenamiento y prueba.\n"
          ]
        }
      ]
    },
    {
      "cell_type": "markdown",
      "source": [
        "## 3. Selección del modelo de Machine Learning"
      ],
      "metadata": {
        "id": "P5nfY0G0L7b5"
      }
    },
    {
      "cell_type": "markdown",
      "source": [
        "### 3.1. Justificación de los modelos seleccionados:"
      ],
      "metadata": {
        "id": "b5UCEN9-MDPt"
      }
    },
    {
      "cell_type": "markdown",
      "source": [
        "### 3.2. Implementación de Machine Learning\n",
        "\n",
        "\n"
      ],
      "metadata": {
        "id": "YdrojASNwGZw"
      }
    },
    {
      "cell_type": "markdown",
      "source": [
        "## Redes Neuronales\n",
        "\n"
      ],
      "metadata": {
        "id": "sZI_9BQIw17H"
      }
    },
    {
      "cell_type": "markdown",
      "source": [
        "## Random Forest"
      ],
      "metadata": {
        "id": "k5bJFoVTwyj8"
      }
    },
    {
      "cell_type": "code",
      "source": [
        "## Bootstraping\n",
        "\n",
        "\n",
        "X = df.drop('{columna}', axis=1)\n",
        "y = df['{columna}']\n",
        "\n",
        "# División de datos entre prueba y entrenamiento\n",
        "\n",
        "X_train, X_test, y_train, y_test = train_test_split(X, y, test_size=0.3, random_state=0) # El 0.3 puede cambiarse a 0.1 o 0.2, podemos ir probando"
      ],
      "metadata": {
        "id": "wsIH8mXz0aX0"
      },
      "execution_count": null,
      "outputs": []
    },
    {
      "cell_type": "markdown",
      "source": [
        "### Regresión"
      ],
      "metadata": {
        "id": "gLM0xaG5zLKx"
      }
    },
    {
      "cell_type": "code",
      "source": [
        "forest_reg = RandomForestRegressor(\n",
        "                                    n_estimators=25, # Se puede incrementar si se ve que lo ocupamos, normalmente se utiliza 100 pero esto hace las pruebas mas rapidas\n",
        "                                    random_state=1,\n",
        "                                    max_features='sqrt',\n",
        "                                    max_depth=10\n",
        "                                  )\n",
        "\n",
        "# Entrenando el modelo\n",
        "forest_reg.fit(X_train, y_train)\n",
        "\n",
        "# Make predictions\n",
        "y_pred = forest_reg.predict(X_test)\n",
        "\n",
        "# Evaluando el modelo\n",
        "error_cuadrado = mean_squared_error(y_test, y_pred)\n",
        "error_absoluto = mean_absolute_error(y_test, y_pred)\n",
        "r2 = r2_score(y_test, y_pred)\n",
        "\n",
        "print(\"Mean Squared Error (MSE):\", error_cuadrado)\n",
        "print(\"Mean Absolute Error (MAE):\", error_absoluto)\n",
        "print(\"R-squared (R²):\", r2)\n",
        "print('Train R²: %.5f' % forest_reg.score(X_train, y_train))\n",
        "print('Test R²: %.5f' % forest_reg.score(X_test, y_test))"
      ],
      "metadata": {
        "id": "IHMiHxgPzML7"
      },
      "execution_count": null,
      "outputs": []
    },
    {
      "cell_type": "markdown",
      "source": [
        "### Clasificación\n",
        "\n"
      ],
      "metadata": {
        "id": "cmpCYDngzEb5"
      }
    },
    {
      "cell_type": "code",
      "source": [
        "forest_cla = RandomForestClassifier(\n",
        "                                    n_estimators=25,\n",
        "                                    random_state=1,\n",
        "                                    criterion='entropy', # Se puede cambiar a gini para ver si da mejor resultado\n",
        "                                    max_features='sqrt',\n",
        "                                    max_depth=10\n",
        "                                  )\n",
        "\n",
        "# Entrenando el modelo\n",
        "forest_cla.fit(X_train, y_train)\n",
        "\n",
        "# Hacer predicciones\n",
        "y_pred = forest_cla.predict(X_test)\n",
        "\n",
        "## Evaluando el modelo\n",
        "accuracy = accuracy_score(y_test, y_pred)\n",
        "\n",
        "print('Train Accuracy : %.5f' % forest_cla.score(X_train, y_train))\n",
        "print('Test Accuracy : %.5f' % forest_cla.score(X_test, y_test))\n",
        "print(classification_report(y_test, y_pred))\n",
        "\n",
        "## No se tienen que poner todas las formas de evaluacion, solo la que nos funcione mas"
      ],
      "metadata": {
        "id": "z-4PPm2izKC7"
      },
      "execution_count": null,
      "outputs": []
    },
    {
      "cell_type": "markdown",
      "source": [
        "# Videos que vi para ayudar con esto (esta parte luego se quita)\n",
        "\n",
        "\n",
        "*   https://www.youtube.com/watch?v=AYICIq5jnhU\n",
        "*   https://www.youtube.com/watch?v=3pa0vtW64Ic\n",
        "\n",
        "# Para las redes neuronales:\n",
        "*   https://www.youtube.com/watch?v=CU24iC3grq8\n",
        "*   https://www.youtube.com/watch?v=iX_on3VxZzk\n",
        "*   https://www.youtube.com/watch?v=V_pfbVudr8w"
      ],
      "metadata": {
        "id": "MuySyqMkzasw"
      }
    }
  ]
}