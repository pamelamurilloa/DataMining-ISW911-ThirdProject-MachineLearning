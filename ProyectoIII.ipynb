{
  "nbformat": 4,
  "nbformat_minor": 0,
  "metadata": {
    "colab": {
      "provenance": [],
      "include_colab_link": true
    },
    "kernelspec": {
      "name": "python3",
      "display_name": "Python 3"
    },
    "language_info": {
      "name": "python"
    }
  },
  "cells": [
    {
      "cell_type": "markdown",
      "metadata": {
        "id": "view-in-github",
        "colab_type": "text"
      },
      "source": [
        "<a href=\"https://colab.research.google.com/github/pamelamurilloa/DataMining-ISW911-ThirdProject-MachineLearning/blob/main/ProyectoIII.ipynb\" target=\"_parent\"><img src=\"https://colab.research.google.com/assets/colab-badge.svg\" alt=\"Open In Colab\"/></a>"
      ]
    },
    {
      "cell_type": "markdown",
      "source": [
        "# Proyecto III - Machine Learning"
      ],
      "metadata": {
        "id": "c5K3-ZzA6cfQ"
      }
    },
    {
      "cell_type": "markdown",
      "source": [
        "## 0. Descripción de las variables del dataset"
      ],
      "metadata": {
        "id": "SybT1z1F63xF"
      }
    },
    {
      "cell_type": "markdown",
      "source": [
        "1. **churn:** Indica si un cliente ha abandonado el servicio o no.\n",
        "2. **accountlength:** Tiempo, en días, que el cliente lleva con el servicio.\n",
        "3. **internationalplan:** Indica si el cliente tiene un plan de llamadas internacionales.\n",
        "4. **voicemailplan:** Indica si el cliente tiene un plan de buzón de voz.\n",
        "5. **numbervmailmessages:** Número de mensajes de voz recibidos por el cliente.\n",
        "6. **totaldayminutes:** Total de minutos usados por el cliente durante el día.\n",
        "7. **totaldaycalls:** Total de llamadas realizadas durante el día.\n",
        "8. **totaldaycharge:** Costo total de las llamadas realizadas durante el día, en dólares.\n",
        "9. **totaleveminutes:** Total de minutos usados por el cliente durante la tarde.\n",
        "10. **totalevecalls:** Total de llamadas realizadas durante la tarde.\n",
        "11. **totalevecharge:** Costo total de las llamadas realizadas durante la tarde, en dólares.\n",
        "12. **totalnightminutes:** Total de minutos usados por el cliente durante la noche.\n",
        "13. **totalnightcalls:** Total de llamadas realizadas durante la noche.\n",
        "14. **totalnightcharge:** Costo total de las llamadas realizadas durante la noche, en dólares.\n",
        "15. **totalintlminutes:** Total de minutos usados en llamadas internacionales.\n",
        "16. **totalintlcalls:** Total de llamadas internacionales realizadas.\n",
        "17. **totalintlcharge:** Costo total de las llamadas internacionales, en dólares.\n",
        "18. **numbercustomerservicecalls:** Número de llamadas realizadas por el cliente al servicio de atención al cliente."
      ],
      "metadata": {
        "id": "Ypd-1KQz6qzj"
      }
    },
    {
      "cell_type": "markdown",
      "source": [
        "## 0.1. Cargar librerías previamente"
      ],
      "metadata": {
        "id": "qLJRNr-O6lOI"
      }
    },
    {
      "cell_type": "code",
      "execution_count": 1,
      "metadata": {
        "id": "qzHuiPrpp1ji"
      },
      "outputs": [],
      "source": [
        "# Carga de las librerias\n",
        "import pandas as pd\n",
        "import numpy as np\n",
        "from tensorflow.keras.models import Sequential\n",
        "from tensorflow.keras.layers import Dense, Dropout, Input\n",
        "from tensorflow.keras.callbacks import EarlyStopping\n",
        "from sklearn.model_selection import train_test_split\n",
        "from sklearn.preprocessing import StandardScaler, LabelEncoder, OneHotEncoder\n",
        "from sklearn.ensemble import RandomForestClassifier, RandomForestRegressor\n",
        "from sklearn.metrics import accuracy_score, mean_squared_error, classification_report, mean_absolute_error, r2_score\n",
        "import matplotlib.pyplot as plt"
      ]
    },
    {
      "cell_type": "markdown",
      "source": [
        "## 1. Cargar el Conjunto de datos\n"
      ],
      "metadata": {
        "id": "vaqqz3Mw685U"
      }
    },
    {
      "cell_type": "markdown",
      "source": [
        "### Cargar datos desde el repositorio a un dataframe"
      ],
      "metadata": {
        "id": "z2FBWB3w7hrf"
      }
    },
    {
      "cell_type": "code",
      "source": [
        "url ='https://raw.githubusercontent.com/pamelamurilloa/DataMining-ISW911-ThirdProject-MachineLearning/refs/heads/main/datos.csv'\n",
        "df = pd.read_csv(url)"
      ],
      "metadata": {
        "id": "97DHob3J6_oD"
      },
      "execution_count": 2,
      "outputs": []
    },
    {
      "cell_type": "markdown",
      "source": [
        "### Transformaciones previas"
      ],
      "metadata": {
        "id": "3t0YXK4j7oeT"
      }
    },
    {
      "cell_type": "code",
      "source": [
        "# Validar como vienen originalmente los tipos datos\n",
        "print(df.dtypes)"
      ],
      "metadata": {
        "collapsed": true,
        "id": "wUL0LlFz7tVL",
        "outputId": "ab9d8727-5a35-4172-8344-445bcc4ba4b6",
        "colab": {
          "base_uri": "https://localhost:8080/"
        }
      },
      "execution_count": 3,
      "outputs": [
        {
          "output_type": "stream",
          "name": "stdout",
          "text": [
            "churn                          object\n",
            "accountlength                 float64\n",
            "internationalplan              object\n",
            "voicemailplan                  object\n",
            "numbervmailmessages           float64\n",
            "totaldayminutes               float64\n",
            "totaldaycalls                 float64\n",
            "totaldaycharge                float64\n",
            "totaleveminutes               float64\n",
            "totalevecalls                 float64\n",
            "totalevecharge                float64\n",
            "totalnightminutes             float64\n",
            "totalnightcalls               float64\n",
            "totalnightcharge              float64\n",
            "totalintlminutes              float64\n",
            "totalintlcalls                float64\n",
            "totalintlcharge               float64\n",
            "numbercustomerservicecalls    float64\n",
            "dtype: object\n"
          ]
        }
      ]
    },
    {
      "cell_type": "code",
      "source": [
        "# Convertir las variables categóricas a un formato category (equivalente a factor en R)\n",
        "columns_to_convert = ['churn', 'internationalplan', 'voicemailplan']\n",
        "df[columns_to_convert] = df[columns_to_convert].astype('category')\n",
        "# En caso de importar el orden aplicar: df['churn'] = pd.Categorical(df['churn'], categories=['No', 'Yes'], ordered=True)\n",
        "\n",
        "print(df.dtypes)"
      ],
      "metadata": {
        "collapsed": true,
        "id": "TH7OTOQj7-Wh",
        "outputId": "9ef51e1f-3d64-4e2d-e1c6-2dabe8fd0ff1",
        "colab": {
          "base_uri": "https://localhost:8080/"
        }
      },
      "execution_count": 4,
      "outputs": [
        {
          "output_type": "stream",
          "name": "stdout",
          "text": [
            "churn                         category\n",
            "accountlength                  float64\n",
            "internationalplan             category\n",
            "voicemailplan                 category\n",
            "numbervmailmessages            float64\n",
            "totaldayminutes                float64\n",
            "totaldaycalls                  float64\n",
            "totaldaycharge                 float64\n",
            "totaleveminutes                float64\n",
            "totalevecalls                  float64\n",
            "totalevecharge                 float64\n",
            "totalnightminutes              float64\n",
            "totalnightcalls                float64\n",
            "totalnightcharge               float64\n",
            "totalintlminutes               float64\n",
            "totalintlcalls                 float64\n",
            "totalintlcharge                float64\n",
            "numbercustomerservicecalls     float64\n",
            "dtype: object\n"
          ]
        }
      ]
    },
    {
      "cell_type": "markdown",
      "source": [
        "## 2. División de los datos en conjuntos de entrenamiento y prueba"
      ],
      "metadata": {
        "id": "YXErm53nwiWK"
      }
    },
    {
      "cell_type": "code",
      "source": [
        "# Separar el conjunto de datos en un conjunto de entrenamiento y uno de prueba\n",
        "\n",
        "# Esta separación esta enfocada en la predección de 'churn'\n",
        "\n",
        "# Variables independientes:\n",
        "x = df.loc[:, df.columns != 'churn']\n",
        "\n",
        "# Variable dependiente:\n",
        "y = df['churn']\n",
        "\n",
        "# Dividir los datos en subconjuntos aleatorios de entrenamiento y prueba\n",
        "x_train, x_test, y_train, y_test = train_test_split(x, y, test_size=0.3, random_state=0)\n",
        "print('Conjunto de datos separado para entrenamiento y prueba.')"
      ],
      "metadata": {
        "id": "aLUwnwZFuyJG",
        "outputId": "7f43df49-ccd5-4658-a31a-88615e074aea",
        "colab": {
          "base_uri": "https://localhost:8080/"
        }
      },
      "execution_count": 5,
      "outputs": [
        {
          "output_type": "stream",
          "name": "stdout",
          "text": [
            "Conjunto de datos separado para entrenamiento y prueba.\n"
          ]
        }
      ]
    },
    {
      "cell_type": "markdown",
      "source": [
        "## 3. Justificación de la selección del modelo de Machine Learning\n",
        "\n",
        "Las redes neuronales es un modelado poderoso para la predicción del 'Churn' debido a su capacidad para modelar relaciones complejas, de esta forma se pueden identificar múltiples interacciones complejan que afecten la elección de los clientes lo que una red neuronal puede aprender y modelar eficazmente. A pesar de que puede ser un modelo, complejo este se puede mantener un poco más simple, debido a su flexibilidad en la configuración y adaptación a los datos, esto debido a que nos permiten ajustar las números de capas y neuronas. Por lo que, su capacidad de modelado de relaciones, manejo de grandes cantidades de datos y flexibilidad podrían asegurar un modelo robusto, también son consideradas una 'caja negra', más sin embargo existen herramientas como lo es SHAP o LIME."
      ],
      "metadata": {
        "id": "P5nfY0G0L7b5"
      }
    },
    {
      "cell_type": "markdown",
      "source": [
        "## 4. Entrenamiento de Modelos de Machine Learning (Red Neuronal)\n"
      ],
      "metadata": {
        "id": "YdrojASNwGZw"
      }
    },
    {
      "cell_type": "markdown",
      "source": [
        "### Preprocesamiento adicional"
      ],
      "metadata": {
        "id": "QLjqdpFda2vA"
      }
    },
    {
      "cell_type": "code",
      "source": [
        "# Codificación de variables categóricas en las variables categóricas de entrenamiento independientes\n",
        "\n",
        "# One-Hot Encoding, manteniendo sólo una columna '..._yes'para evitar colinealidad\n",
        "x_train = pd.get_dummies(x_train, drop_first=True)\n",
        "x_test = pd.get_dummies(x_test, drop_first=True)\n",
        "\n",
        "# Asegurar que ambas divisiones tengan las mismas columnas\n",
        "x_test = x_test.reindex(columns=x_train.columns, fill_value=0)"
      ],
      "metadata": {
        "id": "XiYTl9Pgbouw"
      },
      "execution_count": 6,
      "outputs": []
    },
    {
      "cell_type": "code",
      "source": [
        "# Codificación de churn (variable dependiente), convirtiendolas en valores binarios\n",
        "\n",
        "le = LabelEncoder()\n",
        "y_train = le.fit_transform(y_train) # Aprendiendo que No -> 0, Yes -> 1\n",
        "y_test = le.transform(y_test) # Aquí ya lo aprendió, por ende sólo transforma\n",
        "\n",
        "# Confirmación del mapeo\n",
        "print(le.classes_)"
      ],
      "metadata": {
        "colab": {
          "base_uri": "https://localhost:8080/"
        },
        "id": "fpgLizFPp_J9",
        "outputId": "a6bca7e6-4e7f-4831-cdfd-43f4ffd38014"
      },
      "execution_count": 7,
      "outputs": [
        {
          "output_type": "stream",
          "name": "stdout",
          "text": [
            "['No' 'Yes']\n"
          ]
        }
      ]
    },
    {
      "cell_type": "markdown",
      "source": [
        "### Definir estructura del modelo y compilarlo"
      ],
      "metadata": {
        "id": "eCUA4c3Sr9nd"
      }
    },
    {
      "cell_type": "code",
      "source": [
        "# Crear modelo de red neuronal secuencial\n",
        "model = Sequential()"
      ],
      "metadata": {
        "id": "QkEpyCOj0jLL"
      },
      "execution_count": 8,
      "outputs": []
    },
    {
      "cell_type": "code",
      "source": [
        "# Definir capas\n",
        "\n",
        "# - Agregar la capa de entrada explícita:\n",
        "model.add(Input(shape=(x_train.shape[1],)))\n",
        "\n",
        "# - Primer capa (entrada):\n",
        "model.add(Dense(units=64, activation='relu'))\n",
        "\n",
        "# - Capa oculta\n",
        "model.add(Dense(units=32, activation='relu'))\n",
        "\n",
        "# - Regular con Dropout\n",
        "model.add(Dropout(0.5))\n",
        "\n",
        "# - Capa de salida\n",
        "model.add(Dense(units=1, activation='sigmoid'))"
      ],
      "metadata": {
        "id": "WsTvU1h93yKp"
      },
      "execution_count": 9,
      "outputs": []
    },
    {
      "cell_type": "markdown",
      "source": [
        "**Explicación:**\n",
        "\n",
        "La capa de entrada recibe los datos y empieza aprenderse los patrones, mientras que la capa oculta introduce no linealidad y procesa interacciones más complejas, ya que este es su fin. Para estos dos puntos, se utilizan 64 y 32 neuronas debido a que es común y es preferido utilizar potencias de 2 como tendencia histórica.\n",
        "\n",
        "Para la capa de salida se utiliza `sigmoid` este devuelve una probabilidad, en la que si es mayor a 0.5 retorna 1, de lo contrario 0, lo cual nos ayuda a ilustrar la clasificación binaria, donde se posee sólo una salida por la misma razón, en la que se quiere predecir entres 'Yes' y 'No'."
      ],
      "metadata": {
        "id": "KMR1DwTw7zIX"
      }
    },
    {
      "cell_type": "markdown",
      "source": [
        "### Compilar el modelo"
      ],
      "metadata": {
        "id": "BSoiQWDgfI-e"
      }
    },
    {
      "cell_type": "code",
      "source": [
        "model.compile(optimizer='adam', loss='binary_crossentropy', metrics=['accuracy'])"
      ],
      "metadata": {
        "id": "5Ndhg7jN_8dB"
      },
      "execution_count": null,
      "outputs": []
    },
    {
      "cell_type": "markdown",
      "source": [
        "### Entrenar modelo"
      ],
      "metadata": {
        "id": "aIdjCwlhfO2W"
      }
    },
    {
      "cell_type": "code",
      "source": [
        "# Detiene el entrenamiento del modelo cuando no hay mejora\n",
        "early_stopping = EarlyStopping(monitor='val_loss', patience=10, restore_best_weights=True)\n",
        "\n",
        "# Ajustar el modelo\n",
        "history = model.fit(\n",
        "    x_train, y_train,           # Datos de entrenamiento\n",
        "    validation_split=0.2,       # Usar el 20% del entrenamiento como validación\n",
        "    epochs=100,                 # Número máximo de épocas\n",
        "    batch_size=32,              # Tamaño del lote\n",
        "    callbacks=[early_stopping], # Para finalizar si después de 5 iteraciones no mejora\n",
        "    verbose=1                   # Nivel de detalle de la salida\n",
        ")"
      ],
      "metadata": {
        "colab": {
          "base_uri": "https://localhost:8080/"
        },
        "id": "oLQnwrD1BFA4",
        "outputId": "faab029d-2205-4673-9490-491ebdc883a4"
      },
      "execution_count": null,
      "outputs": [
        {
          "output_type": "stream",
          "name": "stdout",
          "text": [
            "Epoch 1/100\n",
            "\u001b[1m88/88\u001b[0m \u001b[32m━━━━━━━━━━━━━━━━━━━━\u001b[0m\u001b[37m\u001b[0m \u001b[1m2s\u001b[0m 4ms/step - accuracy: 0.6618 - loss: 0.6049 - val_accuracy: 0.8543 - val_loss: 0.4117\n",
            "Epoch 2/100\n",
            "\u001b[1m88/88\u001b[0m \u001b[32m━━━━━━━━━━━━━━━━━━━━\u001b[0m\u001b[37m\u001b[0m \u001b[1m0s\u001b[0m 2ms/step - accuracy: 0.8602 - loss: 0.4047 - val_accuracy: 0.8600 - val_loss: 0.3969\n",
            "Epoch 3/100\n",
            "\u001b[1m88/88\u001b[0m \u001b[32m━━━━━━━━━━━━━━━━━━━━\u001b[0m\u001b[37m\u001b[0m \u001b[1m0s\u001b[0m 2ms/step - accuracy: 0.8562 - loss: 0.4086 - val_accuracy: 0.8643 - val_loss: 0.3847\n",
            "Epoch 4/100\n",
            "\u001b[1m88/88\u001b[0m \u001b[32m━━━━━━━━━━━━━━━━━━━━\u001b[0m\u001b[37m\u001b[0m \u001b[1m0s\u001b[0m 2ms/step - accuracy: 0.8768 - loss: 0.3588 - val_accuracy: 0.8800 - val_loss: 0.3681\n",
            "Epoch 5/100\n",
            "\u001b[1m88/88\u001b[0m \u001b[32m━━━━━━━━━━━━━━━━━━━━\u001b[0m\u001b[37m\u001b[0m \u001b[1m0s\u001b[0m 2ms/step - accuracy: 0.8887 - loss: 0.3374 - val_accuracy: 0.8871 - val_loss: 0.3576\n",
            "Epoch 6/100\n",
            "\u001b[1m88/88\u001b[0m \u001b[32m━━━━━━━━━━━━━━━━━━━━\u001b[0m\u001b[37m\u001b[0m \u001b[1m0s\u001b[0m 2ms/step - accuracy: 0.8903 - loss: 0.3255 - val_accuracy: 0.8843 - val_loss: 0.3467\n",
            "Epoch 7/100\n",
            "\u001b[1m88/88\u001b[0m \u001b[32m━━━━━━━━━━━━━━━━━━━━\u001b[0m\u001b[37m\u001b[0m \u001b[1m0s\u001b[0m 2ms/step - accuracy: 0.8894 - loss: 0.3111 - val_accuracy: 0.8800 - val_loss: 0.3417\n",
            "Epoch 8/100\n",
            "\u001b[1m88/88\u001b[0m \u001b[32m━━━━━━━━━━━━━━━━━━━━\u001b[0m\u001b[37m\u001b[0m \u001b[1m0s\u001b[0m 3ms/step - accuracy: 0.8958 - loss: 0.3091 - val_accuracy: 0.8886 - val_loss: 0.3360\n",
            "Epoch 9/100\n",
            "\u001b[1m88/88\u001b[0m \u001b[32m━━━━━━━━━━━━━━━━━━━━\u001b[0m\u001b[37m\u001b[0m \u001b[1m0s\u001b[0m 2ms/step - accuracy: 0.8911 - loss: 0.3138 - val_accuracy: 0.8900 - val_loss: 0.3374\n",
            "Epoch 10/100\n",
            "\u001b[1m88/88\u001b[0m \u001b[32m━━━━━━━━━━━━━━━━━━━━\u001b[0m\u001b[37m\u001b[0m \u001b[1m0s\u001b[0m 2ms/step - accuracy: 0.8948 - loss: 0.2958 - val_accuracy: 0.8971 - val_loss: 0.3364\n",
            "Epoch 11/100\n",
            "\u001b[1m88/88\u001b[0m \u001b[32m━━━━━━━━━━━━━━━━━━━━\u001b[0m\u001b[37m\u001b[0m \u001b[1m0s\u001b[0m 2ms/step - accuracy: 0.9027 - loss: 0.2821 - val_accuracy: 0.8986 - val_loss: 0.3286\n",
            "Epoch 12/100\n",
            "\u001b[1m88/88\u001b[0m \u001b[32m━━━━━━━━━━━━━━━━━━━━\u001b[0m\u001b[37m\u001b[0m \u001b[1m0s\u001b[0m 3ms/step - accuracy: 0.9100 - loss: 0.2704 - val_accuracy: 0.8986 - val_loss: 0.3263\n",
            "Epoch 13/100\n",
            "\u001b[1m88/88\u001b[0m \u001b[32m━━━━━━━━━━━━━━━━━━━━\u001b[0m\u001b[37m\u001b[0m \u001b[1m0s\u001b[0m 2ms/step - accuracy: 0.9113 - loss: 0.2671 - val_accuracy: 0.9014 - val_loss: 0.3208\n",
            "Epoch 14/100\n",
            "\u001b[1m88/88\u001b[0m \u001b[32m━━━━━━━━━━━━━━━━━━━━\u001b[0m\u001b[37m\u001b[0m \u001b[1m0s\u001b[0m 2ms/step - accuracy: 0.9039 - loss: 0.2911 - val_accuracy: 0.9000 - val_loss: 0.3262\n",
            "Epoch 15/100\n",
            "\u001b[1m88/88\u001b[0m \u001b[32m━━━━━━━━━━━━━━━━━━━━\u001b[0m\u001b[37m\u001b[0m \u001b[1m0s\u001b[0m 2ms/step - accuracy: 0.9058 - loss: 0.2813 - val_accuracy: 0.8986 - val_loss: 0.3210\n",
            "Epoch 16/100\n",
            "\u001b[1m88/88\u001b[0m \u001b[32m━━━━━━━━━━━━━━━━━━━━\u001b[0m\u001b[37m\u001b[0m \u001b[1m0s\u001b[0m 2ms/step - accuracy: 0.9094 - loss: 0.2707 - val_accuracy: 0.8971 - val_loss: 0.3260\n",
            "Epoch 17/100\n",
            "\u001b[1m88/88\u001b[0m \u001b[32m━━━━━━━━━━━━━━━━━━━━\u001b[0m\u001b[37m\u001b[0m \u001b[1m0s\u001b[0m 2ms/step - accuracy: 0.9161 - loss: 0.2651 - val_accuracy: 0.8971 - val_loss: 0.3172\n",
            "Epoch 18/100\n",
            "\u001b[1m88/88\u001b[0m \u001b[32m━━━━━━━━━━━━━━━━━━━━\u001b[0m\u001b[37m\u001b[0m \u001b[1m0s\u001b[0m 2ms/step - accuracy: 0.9102 - loss: 0.2742 - val_accuracy: 0.9043 - val_loss: 0.3169\n",
            "Epoch 19/100\n",
            "\u001b[1m88/88\u001b[0m \u001b[32m━━━━━━━━━━━━━━━━━━━━\u001b[0m\u001b[37m\u001b[0m \u001b[1m0s\u001b[0m 3ms/step - accuracy: 0.9157 - loss: 0.2534 - val_accuracy: 0.9043 - val_loss: 0.3144\n",
            "Epoch 20/100\n",
            "\u001b[1m88/88\u001b[0m \u001b[32m━━━━━━━━━━━━━━━━━━━━\u001b[0m\u001b[37m\u001b[0m \u001b[1m0s\u001b[0m 2ms/step - accuracy: 0.9123 - loss: 0.2590 - val_accuracy: 0.9043 - val_loss: 0.3130\n",
            "Epoch 21/100\n",
            "\u001b[1m88/88\u001b[0m \u001b[32m━━━━━━━━━━━━━━━━━━━━\u001b[0m\u001b[37m\u001b[0m \u001b[1m0s\u001b[0m 2ms/step - accuracy: 0.9218 - loss: 0.2543 - val_accuracy: 0.9029 - val_loss: 0.3140\n",
            "Epoch 22/100\n",
            "\u001b[1m88/88\u001b[0m \u001b[32m━━━━━━━━━━━━━━━━━━━━\u001b[0m\u001b[37m\u001b[0m \u001b[1m0s\u001b[0m 2ms/step - accuracy: 0.9110 - loss: 0.2623 - val_accuracy: 0.9043 - val_loss: 0.3108\n",
            "Epoch 23/100\n",
            "\u001b[1m88/88\u001b[0m \u001b[32m━━━━━━━━━━━━━━━━━━━━\u001b[0m\u001b[37m\u001b[0m \u001b[1m0s\u001b[0m 2ms/step - accuracy: 0.9209 - loss: 0.2494 - val_accuracy: 0.9029 - val_loss: 0.3150\n",
            "Epoch 24/100\n",
            "\u001b[1m88/88\u001b[0m \u001b[32m━━━━━━━━━━━━━━━━━━━━\u001b[0m\u001b[37m\u001b[0m \u001b[1m0s\u001b[0m 3ms/step - accuracy: 0.9269 - loss: 0.2335 - val_accuracy: 0.9071 - val_loss: 0.3078\n",
            "Epoch 25/100\n",
            "\u001b[1m88/88\u001b[0m \u001b[32m━━━━━━━━━━━━━━━━━━━━\u001b[0m\u001b[37m\u001b[0m \u001b[1m0s\u001b[0m 2ms/step - accuracy: 0.9206 - loss: 0.2459 - val_accuracy: 0.9071 - val_loss: 0.3085\n",
            "Epoch 26/100\n",
            "\u001b[1m88/88\u001b[0m \u001b[32m━━━━━━━━━━━━━━━━━━━━\u001b[0m\u001b[37m\u001b[0m \u001b[1m0s\u001b[0m 2ms/step - accuracy: 0.9167 - loss: 0.2481 - val_accuracy: 0.9071 - val_loss: 0.3076\n",
            "Epoch 27/100\n",
            "\u001b[1m88/88\u001b[0m \u001b[32m━━━━━━━━━━━━━━━━━━━━\u001b[0m\u001b[37m\u001b[0m \u001b[1m0s\u001b[0m 2ms/step - accuracy: 0.9251 - loss: 0.2294 - val_accuracy: 0.9086 - val_loss: 0.3031\n",
            "Epoch 28/100\n",
            "\u001b[1m88/88\u001b[0m \u001b[32m━━━━━━━━━━━━━━━━━━━━\u001b[0m\u001b[37m\u001b[0m \u001b[1m0s\u001b[0m 2ms/step - accuracy: 0.9197 - loss: 0.2458 - val_accuracy: 0.9029 - val_loss: 0.3178\n",
            "Epoch 29/100\n",
            "\u001b[1m88/88\u001b[0m \u001b[32m━━━━━━━━━━━━━━━━━━━━\u001b[0m\u001b[37m\u001b[0m \u001b[1m0s\u001b[0m 2ms/step - accuracy: 0.9181 - loss: 0.2483 - val_accuracy: 0.9100 - val_loss: 0.3062\n",
            "Epoch 30/100\n",
            "\u001b[1m88/88\u001b[0m \u001b[32m━━━━━━━━━━━━━━━━━━━━\u001b[0m\u001b[37m\u001b[0m \u001b[1m0s\u001b[0m 3ms/step - accuracy: 0.9117 - loss: 0.2492 - val_accuracy: 0.9100 - val_loss: 0.3049\n",
            "Epoch 31/100\n",
            "\u001b[1m88/88\u001b[0m \u001b[32m━━━━━━━━━━━━━━━━━━━━\u001b[0m\u001b[37m\u001b[0m \u001b[1m1s\u001b[0m 4ms/step - accuracy: 0.9241 - loss: 0.2346 - val_accuracy: 0.9086 - val_loss: 0.3054\n",
            "Epoch 32/100\n",
            "\u001b[1m88/88\u001b[0m \u001b[32m━━━━━━━━━━━━━━━━━━━━\u001b[0m\u001b[37m\u001b[0m \u001b[1m1s\u001b[0m 4ms/step - accuracy: 0.9309 - loss: 0.2143 - val_accuracy: 0.9100 - val_loss: 0.3090\n",
            "Epoch 33/100\n",
            "\u001b[1m88/88\u001b[0m \u001b[32m━━━━━━━━━━━━━━━━━━━━\u001b[0m\u001b[37m\u001b[0m \u001b[1m1s\u001b[0m 4ms/step - accuracy: 0.9229 - loss: 0.2286 - val_accuracy: 0.9086 - val_loss: 0.3051\n",
            "Epoch 34/100\n",
            "\u001b[1m88/88\u001b[0m \u001b[32m━━━━━━━━━━━━━━━━━━━━\u001b[0m\u001b[37m\u001b[0m \u001b[1m1s\u001b[0m 3ms/step - accuracy: 0.9207 - loss: 0.2345 - val_accuracy: 0.9100 - val_loss: 0.3025\n",
            "Epoch 35/100\n",
            "\u001b[1m88/88\u001b[0m \u001b[32m━━━━━━━━━━━━━━━━━━━━\u001b[0m\u001b[37m\u001b[0m \u001b[1m0s\u001b[0m 3ms/step - accuracy: 0.9151 - loss: 0.2417 - val_accuracy: 0.9100 - val_loss: 0.3100\n",
            "Epoch 36/100\n",
            "\u001b[1m88/88\u001b[0m \u001b[32m━━━━━━━━━━━━━━━━━━━━\u001b[0m\u001b[37m\u001b[0m \u001b[1m0s\u001b[0m 2ms/step - accuracy: 0.9329 - loss: 0.2096 - val_accuracy: 0.9114 - val_loss: 0.3056\n",
            "Epoch 37/100\n",
            "\u001b[1m88/88\u001b[0m \u001b[32m━━━━━━━━━━━━━━━━━━━━\u001b[0m\u001b[37m\u001b[0m \u001b[1m0s\u001b[0m 2ms/step - accuracy: 0.9154 - loss: 0.2361 - val_accuracy: 0.9071 - val_loss: 0.3066\n",
            "Epoch 38/100\n",
            "\u001b[1m88/88\u001b[0m \u001b[32m━━━━━━━━━━━━━━━━━━━━\u001b[0m\u001b[37m\u001b[0m \u001b[1m0s\u001b[0m 3ms/step - accuracy: 0.9303 - loss: 0.2059 - val_accuracy: 0.9100 - val_loss: 0.3003\n",
            "Epoch 39/100\n",
            "\u001b[1m88/88\u001b[0m \u001b[32m━━━━━━━━━━━━━━━━━━━━\u001b[0m\u001b[37m\u001b[0m \u001b[1m0s\u001b[0m 3ms/step - accuracy: 0.9247 - loss: 0.2241 - val_accuracy: 0.9129 - val_loss: 0.3039\n",
            "Epoch 40/100\n",
            "\u001b[1m88/88\u001b[0m \u001b[32m━━━━━━━━━━━━━━━━━━━━\u001b[0m\u001b[37m\u001b[0m \u001b[1m0s\u001b[0m 2ms/step - accuracy: 0.9228 - loss: 0.2258 - val_accuracy: 0.9086 - val_loss: 0.3076\n",
            "Epoch 41/100\n",
            "\u001b[1m88/88\u001b[0m \u001b[32m━━━━━━━━━━━━━━━━━━━━\u001b[0m\u001b[37m\u001b[0m \u001b[1m0s\u001b[0m 2ms/step - accuracy: 0.9289 - loss: 0.2114 - val_accuracy: 0.9071 - val_loss: 0.3007\n",
            "Epoch 42/100\n",
            "\u001b[1m88/88\u001b[0m \u001b[32m━━━━━━━━━━━━━━━━━━━━\u001b[0m\u001b[37m\u001b[0m \u001b[1m0s\u001b[0m 3ms/step - accuracy: 0.9322 - loss: 0.2093 - val_accuracy: 0.9129 - val_loss: 0.2976\n",
            "Epoch 43/100\n",
            "\u001b[1m88/88\u001b[0m \u001b[32m━━━━━━━━━━━━━━━━━━━━\u001b[0m\u001b[37m\u001b[0m \u001b[1m0s\u001b[0m 2ms/step - accuracy: 0.9340 - loss: 0.2081 - val_accuracy: 0.9114 - val_loss: 0.3064\n",
            "Epoch 44/100\n",
            "\u001b[1m88/88\u001b[0m \u001b[32m━━━━━━━━━━━━━━━━━━━━\u001b[0m\u001b[37m\u001b[0m \u001b[1m0s\u001b[0m 2ms/step - accuracy: 0.9194 - loss: 0.2254 - val_accuracy: 0.9071 - val_loss: 0.3009\n",
            "Epoch 45/100\n",
            "\u001b[1m88/88\u001b[0m \u001b[32m━━━━━━━━━━━━━━━━━━━━\u001b[0m\u001b[37m\u001b[0m \u001b[1m0s\u001b[0m 2ms/step - accuracy: 0.9258 - loss: 0.2311 - val_accuracy: 0.9114 - val_loss: 0.2980\n",
            "Epoch 46/100\n",
            "\u001b[1m88/88\u001b[0m \u001b[32m━━━━━━━━━━━━━━━━━━━━\u001b[0m\u001b[37m\u001b[0m \u001b[1m0s\u001b[0m 2ms/step - accuracy: 0.9318 - loss: 0.2090 - val_accuracy: 0.9143 - val_loss: 0.2940\n",
            "Epoch 47/100\n",
            "\u001b[1m88/88\u001b[0m \u001b[32m━━━━━━━━━━━━━━━━━━━━\u001b[0m\u001b[37m\u001b[0m \u001b[1m0s\u001b[0m 2ms/step - accuracy: 0.9265 - loss: 0.2170 - val_accuracy: 0.9100 - val_loss: 0.3013\n",
            "Epoch 48/100\n",
            "\u001b[1m88/88\u001b[0m \u001b[32m━━━━━━━━━━━━━━━━━━━━\u001b[0m\u001b[37m\u001b[0m \u001b[1m0s\u001b[0m 2ms/step - accuracy: 0.9306 - loss: 0.2194 - val_accuracy: 0.9129 - val_loss: 0.3025\n",
            "Epoch 49/100\n",
            "\u001b[1m88/88\u001b[0m \u001b[32m━━━━━━━━━━━━━━━━━━━━\u001b[0m\u001b[37m\u001b[0m \u001b[1m0s\u001b[0m 2ms/step - accuracy: 0.9330 - loss: 0.2096 - val_accuracy: 0.9114 - val_loss: 0.3026\n",
            "Epoch 50/100\n",
            "\u001b[1m88/88\u001b[0m \u001b[32m━━━━━━━━━━━━━━━━━━━━\u001b[0m\u001b[37m\u001b[0m \u001b[1m0s\u001b[0m 2ms/step - accuracy: 0.9351 - loss: 0.1910 - val_accuracy: 0.9143 - val_loss: 0.2976\n",
            "Epoch 51/100\n",
            "\u001b[1m88/88\u001b[0m \u001b[32m━━━━━━━━━━━━━━━━━━━━\u001b[0m\u001b[37m\u001b[0m \u001b[1m0s\u001b[0m 2ms/step - accuracy: 0.9361 - loss: 0.1996 - val_accuracy: 0.9143 - val_loss: 0.2999\n",
            "Epoch 52/100\n",
            "\u001b[1m88/88\u001b[0m \u001b[32m━━━━━━━━━━━━━━━━━━━━\u001b[0m\u001b[37m\u001b[0m \u001b[1m0s\u001b[0m 3ms/step - accuracy: 0.9311 - loss: 0.2107 - val_accuracy: 0.9114 - val_loss: 0.2983\n",
            "Epoch 53/100\n",
            "\u001b[1m88/88\u001b[0m \u001b[32m━━━━━━━━━━━━━━━━━━━━\u001b[0m\u001b[37m\u001b[0m \u001b[1m0s\u001b[0m 3ms/step - accuracy: 0.9312 - loss: 0.2146 - val_accuracy: 0.9129 - val_loss: 0.2926\n",
            "Epoch 54/100\n",
            "\u001b[1m88/88\u001b[0m \u001b[32m━━━━━━━━━━━━━━━━━━━━\u001b[0m\u001b[37m\u001b[0m \u001b[1m0s\u001b[0m 2ms/step - accuracy: 0.9385 - loss: 0.2064 - val_accuracy: 0.9100 - val_loss: 0.3089\n",
            "Epoch 55/100\n",
            "\u001b[1m88/88\u001b[0m \u001b[32m━━━━━━━━━━━━━━━━━━━━\u001b[0m\u001b[37m\u001b[0m \u001b[1m0s\u001b[0m 2ms/step - accuracy: 0.9294 - loss: 0.2014 - val_accuracy: 0.9114 - val_loss: 0.2975\n",
            "Epoch 56/100\n",
            "\u001b[1m88/88\u001b[0m \u001b[32m━━━━━━━━━━━━━━━━━━━━\u001b[0m\u001b[37m\u001b[0m \u001b[1m0s\u001b[0m 2ms/step - accuracy: 0.9247 - loss: 0.2133 - val_accuracy: 0.9114 - val_loss: 0.3082\n",
            "Epoch 57/100\n",
            "\u001b[1m88/88\u001b[0m \u001b[32m━━━━━━━━━━━━━━━━━━━━\u001b[0m\u001b[37m\u001b[0m \u001b[1m0s\u001b[0m 2ms/step - accuracy: 0.9282 - loss: 0.2069 - val_accuracy: 0.9100 - val_loss: 0.2975\n",
            "Epoch 58/100\n",
            "\u001b[1m88/88\u001b[0m \u001b[32m━━━━━━━━━━━━━━━━━━━━\u001b[0m\u001b[37m\u001b[0m \u001b[1m0s\u001b[0m 2ms/step - accuracy: 0.9344 - loss: 0.1989 - val_accuracy: 0.9100 - val_loss: 0.2963\n",
            "Epoch 59/100\n",
            "\u001b[1m88/88\u001b[0m \u001b[32m━━━━━━━━━━━━━━━━━━━━\u001b[0m\u001b[37m\u001b[0m \u001b[1m0s\u001b[0m 3ms/step - accuracy: 0.9313 - loss: 0.2034 - val_accuracy: 0.9157 - val_loss: 0.3022\n",
            "Epoch 60/100\n",
            "\u001b[1m88/88\u001b[0m \u001b[32m━━━━━━━━━━━━━━━━━━━━\u001b[0m\u001b[37m\u001b[0m \u001b[1m0s\u001b[0m 2ms/step - accuracy: 0.9360 - loss: 0.1954 - val_accuracy: 0.9129 - val_loss: 0.2967\n",
            "Epoch 61/100\n",
            "\u001b[1m88/88\u001b[0m \u001b[32m━━━━━━━━━━━━━━━━━━━━\u001b[0m\u001b[37m\u001b[0m \u001b[1m0s\u001b[0m 2ms/step - accuracy: 0.9280 - loss: 0.2041 - val_accuracy: 0.9114 - val_loss: 0.3004\n",
            "Epoch 62/100\n",
            "\u001b[1m88/88\u001b[0m \u001b[32m━━━━━━━━━━━━━━━━━━━━\u001b[0m\u001b[37m\u001b[0m \u001b[1m0s\u001b[0m 3ms/step - accuracy: 0.9397 - loss: 0.1853 - val_accuracy: 0.9129 - val_loss: 0.2937\n",
            "Epoch 63/100\n",
            "\u001b[1m88/88\u001b[0m \u001b[32m━━━━━━━━━━━━━━━━━━━━\u001b[0m\u001b[37m\u001b[0m \u001b[1m0s\u001b[0m 2ms/step - accuracy: 0.9327 - loss: 0.2016 - val_accuracy: 0.9129 - val_loss: 0.3017\n"
          ]
        }
      ]
    },
    {
      "cell_type": "markdown",
      "source": [
        "### Visualizar resultados del rendimiento del entrenamiento"
      ],
      "metadata": {
        "id": "uPHPwlMsjXYP"
      }
    },
    {
      "cell_type": "code",
      "source": [
        "# Crear 2 columnas en 1 fila para los gráficos\n",
        "fig, axes = plt.subplots(1, 2, figsize=(15, 5))\n",
        "\n",
        "# Pérdida\n",
        "axes[0].plot(history.history['loss'], label='Pérdida de entrenamiento')\n",
        "axes[0].plot(history.history['val_loss'], label='Pérdida de validación')\n",
        "axes[0].legend()\n",
        "axes[0].set_title('Pérdida durante el entrenamiento')\n",
        "axes[0].set_xlabel('Épocas')\n",
        "axes[0].set_ylabel('Pérdida')\n",
        "\n",
        "# Precisión\n",
        "axes[1].plot(history.history['accuracy'], label='Precisión de entrenamiento')\n",
        "axes[1].plot(history.history['val_accuracy'], label='Precisión de validación')\n",
        "axes[1].legend()\n",
        "axes[1].set_title('Precisión durante el entrenamiento')\n",
        "axes[1].set_xlabel('Épocas')\n",
        "axes[1].set_ylabel('Precisión')\n",
        "\n",
        "plt.show()"
      ],
      "metadata": {
        "colab": {
          "base_uri": "https://localhost:8080/",
          "height": 489
        },
        "id": "h1ItWoGyE4kJ",
        "outputId": "911316fb-2aca-4bc6-e284-17e2f3517b2a"
      },
      "execution_count": null,
      "outputs": [
        {
          "output_type": "display_data",
          "data": {
            "text/plain": [
              "<Figure size 1500x500 with 2 Axes>"
            ],
            "image/png": "[encoded data removed]"
          },
          "metadata": {}
        }
      ]
    },
    {
      "cell_type": "markdown",
      "source": [
        "\n",
        "#### Fuentes de apoyo:\n",
        "*   https://www.youtube.com/watch?v=CU24iC3grq8\n",
        "*   https://www.youtube.com/watch?v=iX_on3VxZzk\n",
        "*   https://www.youtube.com/watch?v=V_pfbVudr8w"
      ],
      "metadata": {
        "id": "MuySyqMkzasw"
      }
    },
    {
      "cell_type": "markdown",
      "source": [
        "## 5. Evaluación del modelo"
      ],
      "metadata": {
        "id": "CfrJjmUfj0xM"
      }
    },
    {
      "cell_type": "code",
      "source": [],
      "metadata": {
        "id": "D5ngwE_pkCpT"
      },
      "execution_count": null,
      "outputs": []
    }
  ]
}