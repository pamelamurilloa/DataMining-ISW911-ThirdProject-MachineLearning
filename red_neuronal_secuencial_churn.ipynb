{
  "nbformat": 4,
  "nbformat_minor": 0,
  "metadata": {
    "colab": {
      "provenance": [],
      "include_colab_link": true
    },
    "kernelspec": {
      "name": "python3",
      "display_name": "Python 3"
    },
    "language_info": {
      "name": "python"
    }
  },
  "cells": [
    {
      "cell_type": "markdown",
      "metadata": {
        "id": "view-in-github",
        "colab_type": "text"
      },
      "source": [
        "<a href=\"https://colab.research.google.com/github/pamelamurilloa/DataMining-ISW911-ThirdProject-MachineLearning/blob/main/red_neuronal_secuencial_churn.ipynb\" target=\"_parent\"><img src=\"https://colab.research.google.com/assets/colab-badge.svg\" alt=\"Open In Colab\"/></a>"
      ]
    },
    {
      "cell_type": "markdown",
      "source": [
        "# Proyecto III - Machine Learning"
      ],
      "metadata": {
        "id": "c5K3-ZzA6cfQ"
      }
    },
    {
      "cell_type": "markdown",
      "source": [
        "## 0. Descripción de las variables del dataset"
      ],
      "metadata": {
        "id": "SybT1z1F63xF"
      }
    },
    {
      "cell_type": "markdown",
      "source": [
        "1. **churn:** Indica si un cliente ha abandonado el servicio o no.\n",
        "2. **accountlength:** Tiempo, en días, que el cliente lleva con el servicio.\n",
        "3. **internationalplan:** Indica si el cliente tiene un plan de llamadas internacionales.\n",
        "4. **voicemailplan:** Indica si el cliente tiene un plan de buzón de voz.\n",
        "5. **numbervmailmessages:** Número de mensajes de voz recibidos por el cliente.\n",
        "6. **totaldayminutes:** Total de minutos usados por el cliente durante el día.\n",
        "7. **totaldaycalls:** Total de llamadas realizadas durante el día.\n",
        "8. **totaldaycharge:** Costo total de las llamadas realizadas durante el día, en dólares.\n",
        "9. **totaleveminutes:** Total de minutos usados por el cliente durante la tarde.\n",
        "10. **totalevecalls:** Total de llamadas realizadas durante la tarde.\n",
        "11. **totalevecharge:** Costo total de las llamadas realizadas durante la tarde, en dólares.\n",
        "12. **totalnightminutes:** Total de minutos usados por el cliente durante la noche.\n",
        "13. **totalnightcalls:** Total de llamadas realizadas durante la noche.\n",
        "14. **totalnightcharge:** Costo total de las llamadas realizadas durante la noche, en dólares.\n",
        "15. **totalintlminutes:** Total de minutos usados en llamadas internacionales.\n",
        "16. **totalintlcalls:** Total de llamadas internacionales realizadas.\n",
        "17. **totalintlcharge:** Costo total de las llamadas internacionales, en dólares.\n",
        "18. **numbercustomerservicecalls:** Número de llamadas realizadas por el cliente al servicio de atención al cliente."
      ],
      "metadata": {
        "id": "Ypd-1KQz6qzj"
      }
    },
    {
      "cell_type": "markdown",
      "source": [
        "## 0.1. Cargar librerías previamente"
      ],
      "metadata": {
        "id": "qLJRNr-O6lOI"
      }
    },
    {
      "cell_type": "code",
      "execution_count": 172,
      "metadata": {
        "id": "qzHuiPrpp1ji"
      },
      "outputs": [],
      "source": [
        "# Carga de las librerias\n",
        "import pandas as pd\n",
        "import numpy as np\n",
        "from tensorflow.keras.models import Sequential\n",
        "from tensorflow.keras.layers import Dense, Dropout, Input\n",
        "from tensorflow.keras.callbacks import EarlyStopping\n",
        "from sklearn.model_selection import train_test_split\n",
        "from sklearn.preprocessing import LabelEncoder\n",
        "from sklearn.metrics import classification_report, confusion_matrix, roc_curve, auc, mean_squared_error, mean_absolute_error, r2_score\n",
        "import matplotlib.pyplot as plt"
      ]
    },
    {
      "cell_type": "markdown",
      "source": [
        "## 1. Cargar el Conjunto de datos\n"
      ],
      "metadata": {
        "id": "vaqqz3Mw685U"
      }
    },
    {
      "cell_type": "markdown",
      "source": [
        "### Cargar datos desde el repositorio a un dataframe"
      ],
      "metadata": {
        "id": "z2FBWB3w7hrf"
      }
    },
    {
      "cell_type": "code",
      "source": [
        "url ='https://raw.githubusercontent.com/pamelamurilloa/DataMining-ISW911-ThirdProject-MachineLearning/refs/heads/main/datos.csv'\n",
        "df = pd.read_csv(url)"
      ],
      "metadata": {
        "id": "97DHob3J6_oD"
      },
      "execution_count": 173,
      "outputs": []
    },
    {
      "cell_type": "markdown",
      "source": [
        "### Transformaciones previas"
      ],
      "metadata": {
        "id": "3t0YXK4j7oeT"
      }
    },
    {
      "cell_type": "code",
      "source": [
        "# Validar como vienen originalmente los tipos datos\n",
        "print(df.dtypes)"
      ],
      "metadata": {
        "collapsed": true,
        "id": "wUL0LlFz7tVL",
        "outputId": "4231fb9d-a95c-479b-a7d8-b0ec791c0911",
        "colab": {
          "base_uri": "https://localhost:8080/"
        }
      },
      "execution_count": 174,
      "outputs": [
        {
          "output_type": "stream",
          "name": "stdout",
          "text": [
            "churn                          object\n",
            "accountlength                 float64\n",
            "internationalplan              object\n",
            "voicemailplan                  object\n",
            "numbervmailmessages           float64\n",
            "totaldayminutes               float64\n",
            "totaldaycalls                 float64\n",
            "totaldaycharge                float64\n",
            "totaleveminutes               float64\n",
            "totalevecalls                 float64\n",
            "totalevecharge                float64\n",
            "totalnightminutes             float64\n",
            "totalnightcalls               float64\n",
            "totalnightcharge              float64\n",
            "totalintlminutes              float64\n",
            "totalintlcalls                float64\n",
            "totalintlcharge               float64\n",
            "numbercustomerservicecalls    float64\n",
            "dtype: object\n"
          ]
        }
      ]
    },
    {
      "cell_type": "code",
      "source": [
        "# Convertir las variables categóricas a un formato category (equivalente a factor en R)\n",
        "columns_to_convert = ['churn', 'internationalplan', 'voicemailplan']\n",
        "df[columns_to_convert] = df[columns_to_convert].astype('category')\n",
        "\n",
        "print(df.dtypes)"
      ],
      "metadata": {
        "collapsed": true,
        "id": "TH7OTOQj7-Wh",
        "outputId": "d2e3a338-ba08-4340-efd2-e89a070a1015",
        "colab": {
          "base_uri": "https://localhost:8080/"
        }
      },
      "execution_count": 175,
      "outputs": [
        {
          "output_type": "stream",
          "name": "stdout",
          "text": [
            "churn                         category\n",
            "accountlength                  float64\n",
            "internationalplan             category\n",
            "voicemailplan                 category\n",
            "numbervmailmessages            float64\n",
            "totaldayminutes                float64\n",
            "totaldaycalls                  float64\n",
            "totaldaycharge                 float64\n",
            "totaleveminutes                float64\n",
            "totalevecalls                  float64\n",
            "totalevecharge                 float64\n",
            "totalnightminutes              float64\n",
            "totalnightcalls                float64\n",
            "totalnightcharge               float64\n",
            "totalintlminutes               float64\n",
            "totalintlcalls                 float64\n",
            "totalintlcharge                float64\n",
            "numbercustomerservicecalls     float64\n",
            "dtype: object\n"
          ]
        }
      ]
    },
    {
      "cell_type": "markdown",
      "source": [
        "## 2. División de los datos en conjuntos de entrenamiento y prueba"
      ],
      "metadata": {
        "id": "YXErm53nwiWK"
      }
    },
    {
      "cell_type": "code",
      "source": [
        "# Separar el conjunto de datos en un conjunto de entrenamiento y uno de prueba\n",
        "\n",
        "# Esta separación esta enfocada en la predección de 'churn'\n",
        "\n",
        "# Variables independientes:\n",
        "x = df.loc[:, df.columns != 'churn']\n",
        "\n",
        "# Variable dependiente:\n",
        "y = df['churn']\n",
        "\n",
        "# Dividir los datos en subconjuntos aleatorios de entrenamiento y prueba\n",
        "x_train, x_test, y_train, y_test = train_test_split(x, y, test_size=0.3, random_state=0)\n",
        "print('Conjunto de datos separado para entrenamiento y prueba.')"
      ],
      "metadata": {
        "id": "aLUwnwZFuyJG",
        "outputId": "7d115e91-6cbe-4b9e-bc6e-665e3a4be648",
        "colab": {
          "base_uri": "https://localhost:8080/"
        }
      },
      "execution_count": 176,
      "outputs": [
        {
          "output_type": "stream",
          "name": "stdout",
          "text": [
            "Conjunto de datos separado para entrenamiento y prueba.\n"
          ]
        }
      ]
    },
    {
      "cell_type": "markdown",
      "source": [
        "## 3. Justificación de la selección del modelo de Machine Learning\n",
        "\n",
        "Las redes neuronales es un modelado poderoso para la predicción del 'Churn' debido a su capacidad para modelar relaciones complejas, de esta forma se pueden identificar múltiples interacciones complejan que afecten la elección de los clientes lo que una red neuronal puede aprender y modelar eficazmente. A pesar de que puede ser un modelo, complejo este se puede mantener un poco más simple, debido a su flexibilidad en la configuración y adaptación a los datos, esto debido a que nos permiten ajustar las números de capas y neuronas. Por lo que, su capacidad de modelado de relaciones, manejo de grandes cantidades de datos y flexibilidad podrían asegurar un modelo robusto, también son consideradas una 'caja negra', más sin embargo existen herramientas como lo es SHAP o LIME."
      ],
      "metadata": {
        "id": "P5nfY0G0L7b5"
      }
    },
    {
      "cell_type": "markdown",
      "source": [
        "## 4. Entrenamiento de Modelos de Machine Learning (Red Neuronal)\n"
      ],
      "metadata": {
        "id": "YdrojASNwGZw"
      }
    },
    {
      "cell_type": "markdown",
      "source": [
        "### Preprocesamiento adicional"
      ],
      "metadata": {
        "id": "QLjqdpFda2vA"
      }
    },
    {
      "cell_type": "code",
      "source": [
        "# Codificación de variables categóricas en las variables categóricas de entrenamiento independientes\n",
        "\n",
        "# One-Hot Encoding, manteniendo sólo una columna '..._yes'para evitar colinealidad\n",
        "x_train = pd.get_dummies(x_train, drop_first=True)\n",
        "x_test = pd.get_dummies(x_test, drop_first=True)\n",
        "\n",
        "# Asegurar que ambas divisiones tengan las mismas columnas\n",
        "x_test = x_test.reindex(columns=x_train.columns, fill_value=0)"
      ],
      "metadata": {
        "id": "XiYTl9Pgbouw"
      },
      "execution_count": 177,
      "outputs": []
    },
    {
      "cell_type": "code",
      "source": [
        "# Codificación de churn (variable dependiente), convirtiendolas en valores binarios\n",
        "\n",
        "le = LabelEncoder()\n",
        "y_train = le.fit_transform(y_train) # Aprendiendo que No -> 0, Yes -> 1\n",
        "y_test = le.transform(y_test) # Aquí ya lo aprendió, por ende sólo transforma\n",
        "\n",
        "# Confirmación del mapeo\n",
        "print(le.classes_)"
      ],
      "metadata": {
        "colab": {
          "base_uri": "https://localhost:8080/"
        },
        "id": "fpgLizFPp_J9",
        "outputId": "87d2bff9-2978-4364-93b4-b7c27098a9f2"
      },
      "execution_count": 178,
      "outputs": [
        {
          "output_type": "stream",
          "name": "stdout",
          "text": [
            "['No' 'Yes']\n"
          ]
        }
      ]
    },
    {
      "cell_type": "markdown",
      "source": [
        "### Definir estructura del modelo y compilarlo"
      ],
      "metadata": {
        "id": "eCUA4c3Sr9nd"
      }
    },
    {
      "cell_type": "code",
      "source": [
        "# Crear modelo de red neuronal secuencial\n",
        "model = Sequential()"
      ],
      "metadata": {
        "id": "QkEpyCOj0jLL"
      },
      "execution_count": 179,
      "outputs": []
    },
    {
      "cell_type": "code",
      "source": [
        "# Definir capas\n",
        "\n",
        "# - Agregar la capa de entrada explícita:\n",
        "model.add(Input(shape=(x_train.shape[1],)))\n",
        "\n",
        "# - Primer capa (entrada):\n",
        "model.add(Dense(units=64, activation='relu'))\n",
        "\n",
        "# - Capa oculta\n",
        "model.add(Dense(units=32, activation='relu'))\n",
        "\n",
        "# - Regular con Dropout\n",
        "model.add(Dropout(0.5))\n",
        "\n",
        "# - Capa de salida\n",
        "model.add(Dense(units=1, activation='sigmoid'))"
      ],
      "metadata": {
        "id": "WsTvU1h93yKp"
      },
      "execution_count": 180,
      "outputs": []
    },
    {
      "cell_type": "markdown",
      "source": [
        "**Explicación:**\n",
        "\n",
        "La capa de entrada recibe los datos y empieza aprenderse los patrones, mientras que la capa oculta introduce no linealidad y procesa interacciones más complejas, ya que este es su fin. Para estos dos puntos, se utilizan 64 y 32 neuronas debido a que es común y es preferido utilizar potencias de 2 como tendencia histórica.\n",
        "\n",
        "Para la capa de salida se utiliza `sigmoid` este devuelve una probabilidad, en la que si es mayor a 0.5 retorna 1, de lo contrario 0, lo cual nos ayuda a ilustrar la clasificación binaria, donde se posee sólo una salida por la misma razón, en la que se quiere predecir entres 'Yes' y 'No'."
      ],
      "metadata": {
        "id": "KMR1DwTw7zIX"
      }
    },
    {
      "cell_type": "markdown",
      "source": [
        "### Compilar el modelo"
      ],
      "metadata": {
        "id": "BSoiQWDgfI-e"
      }
    },
    {
      "cell_type": "code",
      "source": [
        "model.compile(optimizer='adam', loss='binary_crossentropy', metrics=['accuracy'])"
      ],
      "metadata": {
        "id": "5Ndhg7jN_8dB"
      },
      "execution_count": 181,
      "outputs": []
    },
    {
      "cell_type": "markdown",
      "source": [
        "### Entrenar modelo"
      ],
      "metadata": {
        "id": "aIdjCwlhfO2W"
      }
    },
    {
      "cell_type": "code",
      "source": [
        "# Detiene el entrenamiento del modelo cuando no hay mejora\n",
        "early_stopping = EarlyStopping(monitor='val_loss', patience=8, restore_best_weights=True)\n",
        "\n",
        "# Ajustar el modelo\n",
        "history = model.fit(\n",
        "    x_train, y_train,           # Datos de entrenamiento\n",
        "    validation_split=0.2,       # Usar el 20% del entrenamiento como validación\n",
        "    epochs=100,                 # Número máximo de épocas\n",
        "    batch_size=32,               # Tamaño del lote\n",
        "    callbacks=[early_stopping], # Para finalizar si después de 5 iteraciones no mejora\n",
        "    verbose=2                   # Nivel de detalle de la salida\n",
        ")"
      ],
      "metadata": {
        "colab": {
          "base_uri": "https://localhost:8080/"
        },
        "id": "oLQnwrD1BFA4",
        "outputId": "5962d20b-50ad-4716-e138-b8819d0366b6"
      },
      "execution_count": 182,
      "outputs": [
        {
          "output_type": "stream",
          "name": "stdout",
          "text": [
            "Epoch 1/100\n",
            "88/88 - 2s - 28ms/step - accuracy: 0.8271 - loss: 0.4818 - val_accuracy: 0.8529 - val_loss: 0.4112\n",
            "Epoch 2/100\n",
            "88/88 - 0s - 4ms/step - accuracy: 0.8607 - loss: 0.3978 - val_accuracy: 0.8557 - val_loss: 0.4005\n",
            "Epoch 3/100\n",
            "88/88 - 0s - 5ms/step - accuracy: 0.8671 - loss: 0.3808 - val_accuracy: 0.8629 - val_loss: 0.3877\n",
            "Epoch 4/100\n",
            "88/88 - 0s - 2ms/step - accuracy: 0.8743 - loss: 0.3634 - val_accuracy: 0.8786 - val_loss: 0.3727\n",
            "Epoch 5/100\n",
            "88/88 - 0s - 3ms/step - accuracy: 0.8825 - loss: 0.3489 - val_accuracy: 0.8786 - val_loss: 0.3651\n",
            "Epoch 6/100\n",
            "88/88 - 0s - 3ms/step - accuracy: 0.8811 - loss: 0.3405 - val_accuracy: 0.8814 - val_loss: 0.3549\n",
            "Epoch 7/100\n",
            "88/88 - 0s - 4ms/step - accuracy: 0.8886 - loss: 0.3217 - val_accuracy: 0.8800 - val_loss: 0.3488\n",
            "Epoch 8/100\n",
            "88/88 - 0s - 3ms/step - accuracy: 0.8918 - loss: 0.3207 - val_accuracy: 0.8786 - val_loss: 0.3401\n",
            "Epoch 9/100\n",
            "88/88 - 0s - 4ms/step - accuracy: 0.8932 - loss: 0.3098 - val_accuracy: 0.8786 - val_loss: 0.3395\n",
            "Epoch 10/100\n",
            "88/88 - 0s - 3ms/step - accuracy: 0.8950 - loss: 0.3045 - val_accuracy: 0.8843 - val_loss: 0.3288\n",
            "Epoch 11/100\n",
            "88/88 - 0s - 2ms/step - accuracy: 0.8907 - loss: 0.2991 - val_accuracy: 0.8814 - val_loss: 0.3357\n",
            "Epoch 12/100\n",
            "88/88 - 0s - 2ms/step - accuracy: 0.8993 - loss: 0.2895 - val_accuracy: 0.8900 - val_loss: 0.3299\n",
            "Epoch 13/100\n",
            "88/88 - 0s - 3ms/step - accuracy: 0.9032 - loss: 0.2834 - val_accuracy: 0.8886 - val_loss: 0.3264\n",
            "Epoch 14/100\n",
            "88/88 - 0s - 3ms/step - accuracy: 0.9011 - loss: 0.2862 - val_accuracy: 0.8929 - val_loss: 0.3265\n",
            "Epoch 15/100\n",
            "88/88 - 0s - 3ms/step - accuracy: 0.9075 - loss: 0.2770 - val_accuracy: 0.8929 - val_loss: 0.3261\n",
            "Epoch 16/100\n",
            "88/88 - 0s - 4ms/step - accuracy: 0.9018 - loss: 0.2833 - val_accuracy: 0.8957 - val_loss: 0.3212\n",
            "Epoch 17/100\n",
            "88/88 - 0s - 3ms/step - accuracy: 0.9071 - loss: 0.2739 - val_accuracy: 0.8943 - val_loss: 0.3112\n",
            "Epoch 18/100\n",
            "88/88 - 0s - 4ms/step - accuracy: 0.9061 - loss: 0.2678 - val_accuracy: 0.8971 - val_loss: 0.3176\n",
            "Epoch 19/100\n",
            "88/88 - 0s - 2ms/step - accuracy: 0.9132 - loss: 0.2663 - val_accuracy: 0.8914 - val_loss: 0.3131\n",
            "Epoch 20/100\n",
            "88/88 - 0s - 2ms/step - accuracy: 0.9086 - loss: 0.2696 - val_accuracy: 0.8943 - val_loss: 0.3137\n",
            "Epoch 21/100\n",
            "88/88 - 0s - 4ms/step - accuracy: 0.9075 - loss: 0.2645 - val_accuracy: 0.8929 - val_loss: 0.3158\n",
            "Epoch 22/100\n",
            "88/88 - 0s - 2ms/step - accuracy: 0.9114 - loss: 0.2618 - val_accuracy: 0.9000 - val_loss: 0.3093\n",
            "Epoch 23/100\n",
            "88/88 - 0s - 4ms/step - accuracy: 0.9164 - loss: 0.2571 - val_accuracy: 0.9014 - val_loss: 0.3134\n",
            "Epoch 24/100\n",
            "88/88 - 0s - 3ms/step - accuracy: 0.9196 - loss: 0.2574 - val_accuracy: 0.9029 - val_loss: 0.3072\n",
            "Epoch 25/100\n",
            "88/88 - 0s - 3ms/step - accuracy: 0.9129 - loss: 0.2510 - val_accuracy: 0.9000 - val_loss: 0.3094\n",
            "Epoch 26/100\n",
            "88/88 - 0s - 3ms/step - accuracy: 0.9179 - loss: 0.2477 - val_accuracy: 0.9014 - val_loss: 0.3075\n",
            "Epoch 27/100\n",
            "88/88 - 0s - 3ms/step - accuracy: 0.9154 - loss: 0.2486 - val_accuracy: 0.9014 - val_loss: 0.3069\n",
            "Epoch 28/100\n",
            "88/88 - 0s - 3ms/step - accuracy: 0.9164 - loss: 0.2458 - val_accuracy: 0.9029 - val_loss: 0.3057\n",
            "Epoch 29/100\n",
            "88/88 - 0s - 4ms/step - accuracy: 0.9221 - loss: 0.2446 - val_accuracy: 0.9014 - val_loss: 0.3039\n",
            "Epoch 30/100\n",
            "88/88 - 0s - 3ms/step - accuracy: 0.9143 - loss: 0.2491 - val_accuracy: 0.9014 - val_loss: 0.3090\n",
            "Epoch 31/100\n",
            "88/88 - 0s - 3ms/step - accuracy: 0.9193 - loss: 0.2399 - val_accuracy: 0.9029 - val_loss: 0.3051\n",
            "Epoch 32/100\n",
            "88/88 - 0s - 3ms/step - accuracy: 0.9225 - loss: 0.2387 - val_accuracy: 0.9029 - val_loss: 0.3055\n",
            "Epoch 33/100\n",
            "88/88 - 0s - 3ms/step - accuracy: 0.9207 - loss: 0.2386 - val_accuracy: 0.9029 - val_loss: 0.3080\n",
            "Epoch 34/100\n",
            "88/88 - 0s - 3ms/step - accuracy: 0.9204 - loss: 0.2345 - val_accuracy: 0.9014 - val_loss: 0.3026\n",
            "Epoch 35/100\n",
            "88/88 - 0s - 2ms/step - accuracy: 0.9229 - loss: 0.2287 - val_accuracy: 0.9029 - val_loss: 0.3071\n",
            "Epoch 36/100\n",
            "88/88 - 0s - 3ms/step - accuracy: 0.9232 - loss: 0.2321 - val_accuracy: 0.9029 - val_loss: 0.3027\n",
            "Epoch 37/100\n",
            "88/88 - 0s - 3ms/step - accuracy: 0.9211 - loss: 0.2291 - val_accuracy: 0.9014 - val_loss: 0.2977\n",
            "Epoch 38/100\n",
            "88/88 - 0s - 4ms/step - accuracy: 0.9239 - loss: 0.2293 - val_accuracy: 0.9057 - val_loss: 0.2999\n",
            "Epoch 39/100\n",
            "88/88 - 1s - 7ms/step - accuracy: 0.9275 - loss: 0.2261 - val_accuracy: 0.9043 - val_loss: 0.3049\n",
            "Epoch 40/100\n",
            "88/88 - 1s - 7ms/step - accuracy: 0.9279 - loss: 0.2229 - val_accuracy: 0.9086 - val_loss: 0.3023\n",
            "Epoch 41/100\n",
            "88/88 - 1s - 7ms/step - accuracy: 0.9214 - loss: 0.2210 - val_accuracy: 0.9071 - val_loss: 0.3061\n",
            "Epoch 42/100\n",
            "88/88 - 1s - 6ms/step - accuracy: 0.9268 - loss: 0.2167 - val_accuracy: 0.9086 - val_loss: 0.2999\n",
            "Epoch 43/100\n",
            "88/88 - 0s - 3ms/step - accuracy: 0.9261 - loss: 0.2189 - val_accuracy: 0.9086 - val_loss: 0.3002\n",
            "Epoch 44/100\n",
            "88/88 - 0s - 3ms/step - accuracy: 0.9271 - loss: 0.2189 - val_accuracy: 0.9086 - val_loss: 0.3010\n",
            "Epoch 45/100\n",
            "88/88 - 0s - 3ms/step - accuracy: 0.9300 - loss: 0.2160 - val_accuracy: 0.9057 - val_loss: 0.2976\n",
            "Epoch 46/100\n",
            "88/88 - 0s - 3ms/step - accuracy: 0.9296 - loss: 0.2117 - val_accuracy: 0.9043 - val_loss: 0.3068\n",
            "Epoch 47/100\n",
            "88/88 - 0s - 3ms/step - accuracy: 0.9293 - loss: 0.2076 - val_accuracy: 0.9057 - val_loss: 0.3060\n",
            "Epoch 48/100\n",
            "88/88 - 0s - 3ms/step - accuracy: 0.9289 - loss: 0.2129 - val_accuracy: 0.9057 - val_loss: 0.3078\n",
            "Epoch 49/100\n",
            "88/88 - 0s - 3ms/step - accuracy: 0.9279 - loss: 0.2076 - val_accuracy: 0.9057 - val_loss: 0.3047\n",
            "Epoch 50/100\n",
            "88/88 - 0s - 3ms/step - accuracy: 0.9304 - loss: 0.2115 - val_accuracy: 0.9057 - val_loss: 0.3015\n",
            "Epoch 51/100\n",
            "88/88 - 0s - 3ms/step - accuracy: 0.9286 - loss: 0.2121 - val_accuracy: 0.9057 - val_loss: 0.3054\n",
            "Epoch 52/100\n",
            "88/88 - 0s - 3ms/step - accuracy: 0.9279 - loss: 0.2082 - val_accuracy: 0.9071 - val_loss: 0.3051\n",
            "Epoch 53/100\n",
            "88/88 - 0s - 3ms/step - accuracy: 0.9314 - loss: 0.2070 - val_accuracy: 0.9057 - val_loss: 0.3005\n"
          ]
        }
      ]
    },
    {
      "cell_type": "markdown",
      "source": [
        "**Resultados del entrenamiento:**\n",
        "\n",
        "- `accuracy`: Porcentaje de predicciones correctas entrenando.\n",
        "\n",
        "- `loss`: Valor de la función de pérdida entrenando.\n",
        "\n",
        "- `val_accuracy`: Porcentaje de predicciones correctas en el conjunto de validación.\n",
        "\n",
        "- `val_loss`: Valor de la función de pérdida en el conjunto de validación."
      ],
      "metadata": {
        "id": "mPhs7WUB9VLp"
      }
    },
    {
      "cell_type": "markdown",
      "source": [
        "### Visualizar resultados del rendimiento del entrenamiento"
      ],
      "metadata": {
        "id": "uPHPwlMsjXYP"
      }
    },
    {
      "cell_type": "code",
      "source": [
        "# Crear 2 columnas en 1 fila para los gráficos\n",
        "fig, axes = plt.subplots(1, 2, figsize=(15, 5))\n",
        "\n",
        "# Pérdida\n",
        "axes[0].plot(history.history['loss'], label='Pérdida de entrenamiento')\n",
        "axes[0].plot(history.history['val_loss'], label='Pérdida de validación')\n",
        "axes[0].legend()\n",
        "axes[0].set_title('Pérdida durante el entrenamiento')\n",
        "axes[0].set_xlabel('Épocas')\n",
        "axes[0].set_ylabel('Pérdida')\n",
        "\n",
        "# Precisión\n",
        "axes[1].plot(history.history['accuracy'], label='Precisión de entrenamiento')\n",
        "axes[1].plot(history.history['val_accuracy'], label='Precisión de validación')\n",
        "axes[1].legend()\n",
        "axes[1].set_title('Precisión durante el entrenamiento')\n",
        "axes[1].set_xlabel('Épocas')\n",
        "axes[1].set_ylabel('Precisión')\n",
        "\n",
        "plt.show()"
      ],
      "metadata": {
        "colab": {
          "base_uri": "https://localhost:8080/",
          "height": 489
        },
        "id": "h1ItWoGyE4kJ",
        "outputId": "218404a0-2ee7-40fe-86fb-473eba51826b",
        "collapsed": true
      },
      "execution_count": 183,
      "outputs": [
        {
          "output_type": "display_data",
          "data": {
            "text/plain": [
              "<Figure size 1500x500 with 2 Axes>"
            ],
            "image/png": "[encoded data removed]"
          },
          "metadata": {}
        }
      ]
    },
    {
      "cell_type": "markdown",
      "source": [
        "## 5. Evaluación del modelo"
      ],
      "metadata": {
        "id": "CfrJjmUfj0xM"
      }
    },
    {
      "cell_type": "markdown",
      "source": [
        "### Evaluar modelo con los datos de prueba"
      ],
      "metadata": {
        "id": "4XE3lMLgK2R3"
      }
    },
    {
      "cell_type": "code",
      "source": [
        "test_loss, test_accuracy = model.evaluate(x_test, y_test, verbose=1)\n",
        "print(f\"Test Loss: {test_loss}, Test Accuracy: {test_accuracy}\")"
      ],
      "metadata": {
        "id": "D5ngwE_pkCpT",
        "outputId": "58d33638-52db-4da2-ddb3-b41b17746073",
        "colab": {
          "base_uri": "https://localhost:8080/"
        }
      },
      "execution_count": 184,
      "outputs": [
        {
          "output_type": "stream",
          "name": "stdout",
          "text": [
            "\u001b[1m47/47\u001b[0m \u001b[32m━━━━━━━━━━━━━━━━━━━━\u001b[0m\u001b[37m\u001b[0m \u001b[1m0s\u001b[0m 1ms/step - accuracy: 0.9176 - loss: 0.2673\n",
            "Test Loss: 0.2704249322414398, Test Accuracy: 0.9106666445732117\n"
          ]
        }
      ]
    },
    {
      "cell_type": "markdown",
      "source": [
        "Comparar resultados:\n",
        "\n",
        "`loss` < `val_loss` ≈ `test_loss` → El modelo generaliza bien.\n",
        "\n",
        "`loss` < `val_loss` < `test_loss` → Indica un posible sobreajuste."
      ],
      "metadata": {
        "id": "P6Y7rFW0P_K9"
      }
    },
    {
      "cell_type": "markdown",
      "source": [
        "### Matriz de confusión y métricas adicionales"
      ],
      "metadata": {
        "id": "ulJvhJhoP5tT"
      }
    },
    {
      "cell_type": "code",
      "source": [
        "y_pred = (model.predict(x_test) > 0.5).astype(\"int32\")\n",
        "\n",
        "print(confusion_matrix(y_test, y_pred))\n",
        "print(classification_report(y_test, y_pred))"
      ],
      "metadata": {
        "id": "rjUxRMqYQcpb",
        "outputId": "798f2ed6-d0d1-4db5-c489-dc6d298dcb88",
        "colab": {
          "base_uri": "https://localhost:8080/"
        }
      },
      "execution_count": 185,
      "outputs": [
        {
          "output_type": "stream",
          "name": "stdout",
          "text": [
            "\u001b[1m47/47\u001b[0m \u001b[32m━━━━━━━━━━━━━━━━━━━━\u001b[0m\u001b[37m\u001b[0m \u001b[1m0s\u001b[0m 2ms/step\n",
            "[[1278   20]\n",
            " [ 114   88]]\n",
            "              precision    recall  f1-score   support\n",
            "\n",
            "           0       0.92      0.98      0.95      1298\n",
            "           1       0.81      0.44      0.57       202\n",
            "\n",
            "    accuracy                           0.91      1500\n",
            "   macro avg       0.87      0.71      0.76      1500\n",
            "weighted avg       0.90      0.91      0.90      1500\n",
            "\n"
          ]
        }
      ]
    },
    {
      "cell_type": "markdown",
      "source": [
        "### Calculo de Métricas"
      ],
      "metadata": {
        "id": "fAZnVKbubuqb"
      }
    },
    {
      "cell_type": "code",
      "source": [
        "# Generar las predicciones del modelo (en probabilidades)\n",
        "y_pred_prob = model.predict(x_test)\n",
        "\n",
        "# Convertir las probabilidades a 0/1:\n",
        "y_pred_class = (y_pred_prob > 0.5).astype(\"int32\")\n",
        "\n",
        "# Calcular el Mean Squared Error (MSE)\n",
        "mse = mean_squared_error(y_test, y_pred_prob)\n",
        "print(\"Mean Squared Error (MSE):\", mse)\n",
        "\n",
        "# Calcular el Mean Absolute Error (MAE)\n",
        "mae = mean_absolute_error(y_test, y_pred_prob)\n",
        "print(\"Mean Absolute Error (MAE):\", mae)"
      ],
      "metadata": {
        "id": "yfU63d21b2dY",
        "outputId": "d9d9acd5-047e-4c8c-c6cd-3e8a3aadaf3b",
        "colab": {
          "base_uri": "https://localhost:8080/"
        }
      },
      "execution_count": 187,
      "outputs": [
        {
          "output_type": "stream",
          "name": "stdout",
          "text": [
            "\u001b[1m47/47\u001b[0m \u001b[32m━━━━━━━━━━━━━━━━━━━━\u001b[0m\u001b[37m\u001b[0m \u001b[1m0s\u001b[0m 2ms/step\n",
            "Mean Squared Error (MSE): 0.07207955006589649\n",
            "Mean Absolute Error (MAE): 0.14037466819778396\n"
          ]
        }
      ]
    },
    {
      "cell_type": "markdown",
      "source": [
        "### Curva ROC y AUC"
      ],
      "metadata": {
        "id": "qBhFqTi8SFzO"
      }
    },
    {
      "cell_type": "code",
      "source": [
        "y_pred_prob = model.predict(x_test)\n",
        "fpr, tpr, thresholds = roc_curve(y_test, y_pred_prob)\n",
        "auc_score = auc(fpr, tpr)\n",
        "\n",
        "plt.plot(fpr, tpr, label=f\"AUC = {auc_score:.2f}\")\n",
        "plt.xlabel(\"False Positive Rate\")\n",
        "plt.ylabel(\"True Positive Rate\")\n",
        "plt.title(\"ROC Curve\")\n",
        "plt.legend()\n",
        "plt.show()"
      ],
      "metadata": {
        "id": "m4gOjHBNSO0B",
        "outputId": "ba261390-691c-4f6e-f004-f1734cb190e1",
        "colab": {
          "base_uri": "https://localhost:8080/",
          "height": 489
        }
      },
      "execution_count": 146,
      "outputs": [
        {
          "output_type": "stream",
          "name": "stdout",
          "text": [
            "\u001b[1m47/47\u001b[0m \u001b[32m━━━━━━━━━━━━━━━━━━━━\u001b[0m\u001b[37m\u001b[0m \u001b[1m0s\u001b[0m 1ms/step\n"
          ]
        },
        {
          "output_type": "display_data",
          "data": {
            "text/plain": [
              "<Figure size 640x480 with 1 Axes>"
            ],
            "image/png": "[encoded data removed]"
          },
          "metadata": {}
        }
      ]
    },
    {
      "cell_type": "markdown",
      "source": [
        "## 6. Ajustes de Parámetros"
      ],
      "metadata": {
        "id": "QbLIMTsrfCj5"
      }
    },
    {
      "cell_type": "code",
      "source": [],
      "metadata": {
        "id": "jZYKSaJ7fIfZ"
      },
      "execution_count": null,
      "outputs": []
    }
  ]
}